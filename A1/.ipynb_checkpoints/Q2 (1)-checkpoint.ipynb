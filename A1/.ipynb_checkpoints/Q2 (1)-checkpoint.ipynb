{
 "cells": [
  {
   "cell_type": "code",
   "execution_count": 43,
   "id": "3af7da2c",
   "metadata": {},
   "outputs": [
    {
     "name": "stderr",
     "output_type": "stream",
     "text": [
      "[nltk_data] Downloading package stopwords to\n",
      "[nltk_data]     C:\\Users\\asus\\AppData\\Roaming\\nltk_data...\n",
      "[nltk_data]   Package stopwords is already up-to-date!\n"
     ]
    }
   ],
   "source": [
    "import pandas as pd\n",
    "import numpy as np\n",
    "import re\n",
    "import os\n",
    "import string\n",
    "import fn_module\n",
    "from fn_module import *"
   ]
  },
  {
   "cell_type": "code",
   "execution_count": 18,
   "id": "d5bbfce5",
   "metadata": {},
   "outputs": [],
   "source": [
    "# def read_file(directory = \"CSE508_Winter2023_Dataset_Processed\"):\n",
    "#     data = {}\n",
    "#     for filename in os.listdir(directory):    \n",
    "#         file_path = os.path.join(directory, filename)\n",
    "#         with open(file_path, 'r') as f:\n",
    "#             file_contents = f.read()\n",
    "#         data[filename] = file_contents\n",
    "#     return data"
   ]
  },
  {
   "cell_type": "code",
   "execution_count": 19,
   "id": "5fe53626",
   "metadata": {},
   "outputs": [
    {
     "name": "stdout",
     "output_type": "stream",
     "text": [
      "File count =  1400\n"
     ]
    }
   ],
   "source": [
    "data = fn_module.read_file(\"CSE508_Winter2023_Dataset_Processed_new\")\n",
    "print(\"File count = \",len(data))"
   ]
  },
  {
   "cell_type": "code",
   "execution_count": 20,
   "id": "dd24eb8a",
   "metadata": {},
   "outputs": [],
   "source": [
    "keys = list(data.keys())"
   ]
  },
  {
   "cell_type": "code",
   "execution_count": 21,
   "id": "a2d2ede3",
   "metadata": {},
   "outputs": [],
   "source": [
    "# a_shape = (1,1400)\n",
    "# df = np.chararray(1400)\n",
    "# i = 0\n",
    "s = \"\"\n",
    "df = []\n",
    "for key in data:\n",
    "    df.append(data[key])\n"
   ]
  },
  {
   "cell_type": "code",
   "execution_count": 22,
   "id": "8a9ca3a5",
   "metadata": {},
   "outputs": [],
   "source": [
    "from collections import defaultdict\n",
    "\n",
    "def create_inverted_index(documents):\n",
    "    inverted_index = defaultdict(list)\n",
    "    \n",
    "    for doc_id, document in enumerate(documents):\n",
    "        for word in document.split():\n",
    "            inverted_index[word].append(doc_id)\n",
    "    \n",
    "    return inverted_index"
   ]
  },
  {
   "cell_type": "code",
   "execution_count": 23,
   "id": "d2d61b57",
   "metadata": {},
   "outputs": [],
   "source": [
    "inverted_index = create_inverted_index(df)"
   ]
  },
  {
   "cell_type": "code",
   "execution_count": 24,
   "id": "9089ca02",
   "metadata": {},
   "outputs": [],
   "source": [
    "\n",
    "import pickle\n",
    "from collections import defaultdict\n",
    "def save_inverted_index(inverted_index, file_path):\n",
    "    with open(file_path, 'wb') as f:\n",
    "        pickle.dump(inverted_index, f)\n",
    "\n",
    "def load_inverted_index(file_path):\n",
    "    with open(file_path, 'rb') as f:\n",
    "        inverted_index = pickle.load(f)\n",
    "    \n",
    "    return inverted_index"
   ]
  },
  {
   "cell_type": "code",
   "execution_count": 25,
   "id": "48103ca2",
   "metadata": {},
   "outputs": [],
   "source": [
    "file_path = 'inverted_index.pickle'\n",
    "save_inverted_index(inverted_index, file_path)\n",
    "\n",
    "inverted_index = load_inverted_index(file_path)"
   ]
  },
  {
   "cell_type": "code",
   "execution_count": 26,
   "id": "0afe90e8",
   "metadata": {},
   "outputs": [],
   "source": [
    "def T1_and_T2(inverted_index, word1, word2):\n",
    "    return set(T1(inverted_index, word1)) and set(T2(inverted_index, word2))\n",
    "\n",
    "def T1(inverted_index , word1):\n",
    "    return inverted_index[word1]\n",
    "\n",
    "def T2(inverted_index , word2):\n",
    "    return inverted_index[word2]\n"
   ]
  },
  {
   "cell_type": "code",
   "execution_count": 27,
   "id": "a09edd61",
   "metadata": {},
   "outputs": [],
   "source": [
    "# print('T1 AND T2:', T1_and_T2(inverted_index, \"experimental\", \"the\"))"
   ]
  },
  {
   "cell_type": "code",
   "execution_count": 28,
   "id": "96e55ed0",
   "metadata": {},
   "outputs": [],
   "source": [
    "def T1_and_not_T2(inverted_index, word1, word2):\n",
    "    return set(T1(inverted_index, word1)) and not set(T2(inverted_index, word2))\n",
    "\n",
    "def T1(inverted_index , word1):\n",
    "    return inverted_index[word1]\n",
    "\n",
    "def T2(inverted_index , word2):\n",
    "    return inverted_index[word2]\n"
   ]
  },
  {
   "cell_type": "code",
   "execution_count": 29,
   "id": "05aa84ae",
   "metadata": {},
   "outputs": [],
   "source": [
    "def T1_or_T2(inverted_index, word1, word2):\n",
    "    return set(T1(inverted_index, word1)) or set(T2(inverted_index, word2))\n",
    "\n",
    "def T1(inverted_index , word1):\n",
    "    return inverted_index[word1]\n",
    "\n",
    "def T2(inverted_index , word2):\n",
    "    return inverted_index[word2]"
   ]
  },
  {
   "cell_type": "code",
   "execution_count": 30,
   "id": "63c27707",
   "metadata": {},
   "outputs": [],
   "source": [
    "def T1_or_not_T2(inverted_index, word1, word2):\n",
    "    return set(T1(inverted_index, word1)) or not set(T2(inverted_index, word2))\n",
    "\n",
    "def T1(inverted_index , word1):\n",
    "    return inverted_index[word1]\n",
    "\n",
    "def T2(inverted_index , word2):\n",
    "    return inverted_index[word2]"
   ]
  },
  {
   "cell_type": "code",
   "execution_count": 31,
   "id": "9850290e",
   "metadata": {},
   "outputs": [
    {
     "name": "stderr",
     "output_type": "stream",
     "text": [
      "[nltk_data] Downloading package stopwords to\n",
      "[nltk_data]     C:\\Users\\asus\\AppData\\Roaming\\nltk_data...\n",
      "[nltk_data]   Package stopwords is already up-to-date!\n"
     ]
    }
   ],
   "source": [
    "# def remove_stop_words(tokens):\n",
    "#     stop_words = set(stopwords.words('english'))\n",
    "\n",
    "#     tokens_clean = [token for token in tokens if token.lower() not in stop_words]\n",
    "#     return tokens_clean\n",
    "import nltk\n",
    "from nltk.corpus import stopwords\n",
    "nltk.download('stopwords')\n",
    "\n",
    "def remove_stopwords(input_sequence):\n",
    "#     stopwords = ['a', 'an', 'and', 'in', 'of', 'the', 'to']\n",
    "    stopword = set(stopwords.words('english'))\n",
    "    words = input_sequence.split()\n",
    "    output_sequence = [word for word in words if word.lower() not in stopword]\n",
    "    return ' '.join(output_sequence)"
   ]
  },
  {
   "cell_type": "code",
   "execution_count": 32,
   "id": "ff6b715a",
   "metadata": {},
   "outputs": [],
   "source": [
    "def count_comparisons(query, inverted_index):\n",
    "    terms = query.split()\n",
    "    inverted_lists = [inverted_index[term] for term in terms if term in inverted_index]\n",
    "    comparisons = 0\n",
    "    for inverted_list in inverted_lists:\n",
    "        comparisons += len(inverted_list)\n",
    "    return comparisons"
   ]
  },
  {
   "cell_type": "code",
   "execution_count": 33,
   "id": "af0ba2e0",
   "metadata": {},
   "outputs": [],
   "source": [
    "def retrieve_documents(output_sequence, operations , inverted_index):\n",
    "    l1 = set(T1(inverted_index , output_sequence[0]))\n",
    "    i = 0\n",
    "    while( i < np.size(operations)):\n",
    "        l2 = set(inverted_index[output_sequence[i+1]])\n",
    "        print(l1)\n",
    "        print(l2)\n",
    "        if(operations[i] == 'AND'):\n",
    "            l1 = l1 and l2\n",
    "        if(operations[i] == 'AND NOT'):\n",
    "            l1 = l1 and not l2\n",
    "        if(operations[i] == 'OR'):\n",
    "            l1 = l1 or l2\n",
    "        if(operations[i] == 'OR NOT'):\n",
    "            l1 = l1 or not l2\n",
    "        i= i+1\n",
    "    print(\"l1\")\n",
    "    print(l1)\n",
    "    return l1"
   ]
  },
  {
   "cell_type": "code",
   "execution_count": 45,
   "id": "3b3cd889",
   "metadata": {},
   "outputs": [
    {
     "name": "stdout",
     "output_type": "stream",
     "text": [
      "['car', 'bag', 'canister']\n",
      "car OR bag  AND NOT canister \n",
      "set()\n",
      "set()\n",
      "set()\n",
      "set()\n",
      "l1\n",
      "set()\n",
      "0\n",
      "0\n"
     ]
    }
   ],
   "source": [
    "t = int(input())\n",
    "while(t > 0):\n",
    "    t = t-1\n",
    "    sequence  = input()\n",
    "    oper = input()\n",
    "    # output_sequence  = remove_stopwords(sequence).split(' ')\n",
    "    output_sequence = fn_module.preprocess(sequence)\n",
    " \n",
    "    operations = oper.split(',')\n",
    "    print(output_sequence)\n",
    "    query = output_sequence[0]+' '\n",
    "    i = 0\n",
    "    while( i < np.size(operations)):\n",
    "        query = query + operations[i] + ' ' + output_sequence[i+1] + ' '\n",
    "        i= i+1\n",
    "    print(query)\n",
    "\n",
    "    num_documents = retrieve_documents(output_sequence, operations,inverted_index)\n",
    "    \n",
    "#     number of documents retrieved\n",
    "    print(len(num_documents))\n",
    "    \n",
    "#     name of the documents retreived\n",
    "    i = 0\n",
    "    for val in num_documents:\n",
    "        print(keys[val])\n",
    "        i=i+1\n",
    "#     total comparisons\n",
    "    print(count_comparisons(query,inverted_index))\n",
    "    \n",
    "        "
   ]
  },
  {
   "cell_type": "code",
   "execution_count": null,
   "id": "de46e698",
   "metadata": {},
   "outputs": [],
   "source": []
  },
  {
   "cell_type": "code",
   "execution_count": null,
   "id": "22cffa58",
   "metadata": {},
   "outputs": [],
   "source": []
  },
  {
   "cell_type": "code",
   "execution_count": null,
   "id": "99aa279f",
   "metadata": {},
   "outputs": [],
   "source": []
  },
  {
   "cell_type": "code",
   "execution_count": null,
   "id": "38f5bcd3",
   "metadata": {},
   "outputs": [],
   "source": []
  },
  {
   "cell_type": "code",
   "execution_count": null,
   "id": "8adccf4c",
   "metadata": {},
   "outputs": [],
   "source": []
  }
 ],
 "metadata": {
  "kernelspec": {
   "display_name": "Python 3 (ipykernel)",
   "language": "python",
   "name": "python3"
  },
  "language_info": {
   "codemirror_mode": {
    "name": "ipython",
    "version": 3
   },
   "file_extension": ".py",
   "mimetype": "text/x-python",
   "name": "python",
   "nbconvert_exporter": "python",
   "pygments_lexer": "ipython3",
   "version": "3.10.6"
  },
  "vscode": {
   "interpreter": {
    "hash": "9c1d5a056f04d97314a9f946bc8c5185004572d3d68312220c0ba298420421f7"
   }
  }
 },
 "nbformat": 4,
 "nbformat_minor": 5
}

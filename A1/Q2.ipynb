{
 "cells": [
  {
   "cell_type": "code",
   "execution_count": 1,
   "id": "3af7da2c",
   "metadata": {},
   "outputs": [
    {
     "name": "stderr",
     "output_type": "stream",
     "text": [
      "[nltk_data] Downloading package stopwords to\n",
      "[nltk_data]     C:\\Users\\asus\\AppData\\Roaming\\nltk_data...\n",
      "[nltk_data]   Package stopwords is already up-to-date!\n"
     ]
    }
   ],
   "source": [
    "import fn_module"
   ]
  },
  {
   "cell_type": "code",
   "execution_count": 2,
   "id": "5fe53626",
   "metadata": {},
   "outputs": [
    {
     "name": "stdout",
     "output_type": "stream",
     "text": [
      "File count =  1400\n"
     ]
    }
   ],
   "source": [
    "data = fn_module.read_file(\"CSE508_Winter2023_Dataset_Processed_new\")\n",
    "print(\"File count = \",len(data))"
   ]
  },
  {
   "cell_type": "code",
   "execution_count": 3,
   "id": "dd24eb8a",
   "metadata": {},
   "outputs": [],
   "source": [
    "keys = list(data.keys())"
   ]
  },
  {
   "cell_type": "code",
   "execution_count": 4,
   "id": "a2d2ede3",
   "metadata": {},
   "outputs": [],
   "source": [
    "s = \"\"\n",
    "df = []\n",
    "for key in data:\n",
    "    df.append(data[key])\n"
   ]
  },
  {
   "cell_type": "code",
   "execution_count": 5,
   "id": "8a9ca3a5",
   "metadata": {},
   "outputs": [],
   "source": [
    "from collections import defaultdict\n",
    "\n",
    "def create_inverted_index(documents):\n",
    "    inverted_index = defaultdict(list)\n",
    "    \n",
    "    for doc_id, document in enumerate(documents):\n",
    "        for word in document.split():\n",
    "            inverted_index[word].append(doc_id)\n",
    "    \n",
    "    return inverted_index"
   ]
  },
  {
   "cell_type": "code",
   "execution_count": 6,
   "id": "d2d61b57",
   "metadata": {},
   "outputs": [],
   "source": [
    "inverted_index = create_inverted_index(df)"
   ]
  },
  {
   "cell_type": "code",
   "execution_count": 7,
   "id": "9089ca02",
   "metadata": {},
   "outputs": [],
   "source": [
    "\n",
    "import pickle\n",
    "from collections import defaultdict\n",
    "def save_inverted_index(inverted_index, file_path):\n",
    "    with open(file_path, 'wb') as f:\n",
    "        pickle.dump(inverted_index, f)\n",
    "\n",
    "def load_inverted_index(file_path):\n",
    "    with open(file_path, 'rb') as f:\n",
    "        inverted_index = pickle.load(f)\n",
    "    \n",
    "    return inverted_index"
   ]
  },
  {
   "cell_type": "code",
   "execution_count": 8,
   "id": "48103ca2",
   "metadata": {},
   "outputs": [],
   "source": [
    "file_path = 'inverted_index.pickle'\n",
    "save_inverted_index(inverted_index, file_path)\n",
    "\n",
    "inverted_index = load_inverted_index(file_path)"
   ]
  },
  {
   "cell_type": "code",
   "execution_count": 73,
   "id": "08813964",
   "metadata": {},
   "outputs": [],
   "source": [
    "def get_list(inverted_index , word):\n",
    "    if word in inverted_index:\n",
    "        return inverted_index[word]\n",
    "    else:\n",
    "        return []\n",
    "    # return inverted_index[word]"
   ]
  },
  {
   "cell_type": "code",
   "execution_count": 10,
   "id": "9ae57e09",
   "metadata": {},
   "outputs": [],
   "source": [
    "def and_operation(s1, s2):\n",
    "    ptr_1 = 0\n",
    "    ptr_2 = 0\n",
    "    final_set = set()\n",
    "    s_1 = sorted(s1)\n",
    "    s_2 = sorted(s2)\n",
    "    count_comparisons = 0\n",
    "    len_1 = len(s_1)\n",
    "    len_2 = len(s_2)\n",
    "    while(ptr_1 < len_1 and ptr_2 < len_2):\n",
    "        if s_1[ptr_1]==s_2[ptr_2]:\n",
    "            ptr_2 = ptr_2 + 1\n",
    "            final_set.add(s_1[ptr_1])\n",
    "            ptr_1 = ptr_1 + 1\n",
    "        elif s_1[ptr_1] > s_2[ptr_2]:\n",
    "            ptr_2 = ptr_2 + 1\n",
    "        else:\n",
    "            ptr_1 = ptr_1 + 1\n",
    "        count_comparisons += 1\n",
    "    return final_set, count_comparisons"
   ]
  },
  {
   "cell_type": "code",
   "execution_count": 11,
   "id": "f9eceefa",
   "metadata": {},
   "outputs": [],
   "source": [
    "def or_operation(s1, s2):\n",
    "    ptr_1 = 0\n",
    "    ptr_2 = 0\n",
    "    final_set = set()\n",
    "    s_1 = sorted(s1)\n",
    "    s_2 = sorted(s2)\n",
    "    count_comparisons = 0\n",
    "    len_1 = len(s_1)\n",
    "    len_2 = len(s_2)\n",
    "    while(ptr_1 < len_1 and ptr_2 < len_2):\n",
    "        if s_1[ptr_1]==s_2[ptr_2]:\n",
    "            ptr_2 = ptr_2 + 1\n",
    "            final_set.add(s_1[ptr_1])\n",
    "            ptr_1 = ptr_1 + 1\n",
    "        elif s_1[ptr_1] > s_2[ptr_2]:\n",
    "            final_set.add(s_2[ptr_2])\n",
    "            ptr_2 = ptr_2 + 1\n",
    "        else:\n",
    "            final_set.add(s_1[ptr_1])\n",
    "            ptr_1 = ptr_1 + 1\n",
    "        count_comparisons += 1\n",
    "        \n",
    "    while(ptr_1 < len_1):\n",
    "        final_set.add(s_1[ptr_1])\n",
    "        ptr_1 += 1\n",
    "        \n",
    "    while(ptr_2 < len_2):\n",
    "        final_set.add(s_2[ptr_2])\n",
    "        ptr_2 += 1\n",
    "        \n",
    "    result = sorted(final_set)\n",
    "        \n",
    "    return result, count_comparisons"
   ]
  },
  {
   "cell_type": "code",
   "execution_count": 97,
   "id": "c598c74e",
   "metadata": {},
   "outputs": [],
   "source": [
    "def ornot_operation(s1, s2):\n",
    "    ptr_1 = 0\n",
    "    ptr_2 = 0\n",
    "    final_set = set()\n",
    "    s_1 = sorted(s1)\n",
    "    s_2 = sorted(s2)\n",
    "    count_comparisons = 0\n",
    "    len_1 = len(s_1)\n",
    "    len_2 = len(s_2)\n",
    "    while(ptr_1 < len_1 and ptr_2 < len_2):\n",
    "        if s_1[ptr_1]==s_2[ptr_2]:\n",
    "            ptr_1 = ptr_1 + 1\n",
    "            ptr_2 = ptr_2 + 1\n",
    "        elif s_1[ptr_1] > s_2[ptr_2]:\n",
    "            ptr_2 = ptr_2 + 1\n",
    "        else:\n",
    "            final_set.add(s_1[ptr_1])\n",
    "            ptr_1 = ptr_1 + 1\n",
    "        count_comparisons += 1\n",
    "        \n",
    "    while(ptr_1 < len_1):\n",
    "        final_set.add(s_1[ptr_1])\n",
    "        ptr_1 += 1\n",
    "    \n",
    "    s1 = set(s1)\n",
    "    s2 = set(s2)\n",
    "    temp = []\n",
    "    for i in range(1400):\n",
    "        temp.append(i)\n",
    "    temp = set(temp)\n",
    "    not_s2 = temp - s2\n",
    "    res = list(sorted(s1.union(not_s2)))\n",
    "    res,cnt = or_operation(s1,not_s2)\n",
    "    res = sorted(res)\n",
    "    result = sorted(final_set)\n",
    "        \n",
    "    return res, cnt"
   ]
  },
  {
   "cell_type": "code",
   "execution_count": 79,
   "id": "dfe0fd52",
   "metadata": {},
   "outputs": [],
   "source": [
    "def andnot_operation(s1, s2):\n",
    "\n",
    "    ptr_1 = 0\n",
    "    ptr_2 = 0\n",
    "    final_set = set()\n",
    "    s_1 = sorted(s1)\n",
    "    s_2 = sorted(s2)\n",
    "    count_comparisons = 0\n",
    "    len_1 = len(s_1)\n",
    "    len_2 = len(s_2)\n",
    "    while(ptr_1 < len_1 and ptr_2 < len_2):\n",
    "        if s_1[ptr_1]==s_2[ptr_2]:\n",
    "            ptr_1 = ptr_1 + 1\n",
    "            ptr_2 = ptr_2 + 1\n",
    "        elif s_1[ptr_1] > s_2[ptr_2]:\n",
    "            # final_set.add(s_2[ptr_2])\n",
    "            ptr_2 = ptr_2 + 1\n",
    "        else:\n",
    "            ptr_1 = ptr_1 + 1\n",
    "        count_comparisons += 1\n",
    "\n",
    "    s1 = set(s1)\n",
    "    s2 = set(s2)\n",
    "    # print(\"/\"*100)\n",
    "    # print(\"S1 set =\",s1)\n",
    "    # print(\"S2 set =\",s2)\n",
    "    # print(\"/\"*100)\n",
    "\n",
    "    final_set = s1 - s2\n",
    "    return final_set, count_comparisons"
   ]
  },
  {
   "cell_type": "code",
   "execution_count": 106,
   "id": "af0ba2e0",
   "metadata": {},
   "outputs": [],
   "source": [
    "def retrieve_documents(output_sequence, operations , inverted_index, log = False):\n",
    "    count = 0\n",
    "    l1 = get_list(inverted_index,output_sequence[0])\n",
    "    if log:\n",
    "        print(\"L1 = \",sorted(list(set(l1))))\n",
    "    for i in range(len(operations)):\n",
    "        count_temp = 0\n",
    "        l2 = get_list(inverted_index,output_sequence[i+1])\n",
    "        if log:\n",
    "            print(\"L2 = \",sorted(list(set(l2))))\n",
    "        op = []\n",
    "        temp = operations[i].split()\n",
    "        if(len(temp)==2):\n",
    "            operations[i]=temp[0].lower()+temp[1].lower()\n",
    "        if(operations[i].lower() == 'andnot'):\n",
    "            print(\"IN AND NOT FUN CALL\",\"%\"*100)\n",
    "            op, count_temp = andnot_operation(l1,l2)\n",
    "        elif(operations[i].lower() == 'and'):\n",
    "            op, count_temp = and_operation(l1,l2)\n",
    "        elif(operations[i].lower() == 'or'):\n",
    "            op, count_temp = or_operation(l1,l2)\n",
    "        elif(operations[i] == 'ornot'):\n",
    "            op, count_temp = ornot_operation(l1,l2)\n",
    "        if log:\n",
    "            print(\"OPERATOR = \",operations[i])\n",
    "            print(\"OUTPUT AFTER OPERTION\",sorted(list(set(op))))\n",
    "            print(\"-\"*100)\n",
    "        \n",
    "        l1 = op\n",
    "        count+=count_temp\n",
    "\n",
    "    return l1, count"
   ]
  },
  {
   "cell_type": "code",
   "execution_count": 107,
   "id": "3b3cd889",
   "metadata": {},
   "outputs": [
    {
     "name": "stdout",
     "output_type": "stream",
     "text": [
      "Processed sequence : ['bluntnosed', 'slender', 'larger']\n",
      "Final Query : bluntnosed or slender  or not larger \n",
      "L1 =  [24, 100, 138, 159, 293, 348, 353, 369, 422, 455, 472, 543, 575, 592, 596, 975, 999, 1005, 1081, 1252, 1280, 1355, 1392]\n",
      "L2 =  [24, 26, 43, 59, 62, 68, 122, 145, 146, 159, 190, 191, 204, 216, 228, 229, 234, 247, 249, 258, 272, 288, 306, 325, 331, 353, 358, 431, 432, 455, 463, 464, 467, 468, 492, 493, 512, 519, 527, 540, 544, 555, 556, 568, 571, 576, 598, 599, 600, 604, 624, 682, 687, 738, 745, 751, 790, 791, 800, 801, 900, 901, 917, 920, 921, 924, 938, 940, 968, 1111, 1185, 1196, 1200, 1209, 1212, 1247, 1258, 1299, 1304, 1309, 1327, 1372, 1380, 1392]\n",
      "OPERATOR =  or\n",
      "OUTPUT AFTER OPERTION [24, 26, 43, 59, 62, 68, 100, 122, 138, 145, 146, 159, 190, 191, 204, 216, 228, 229, 234, 247, 249, 258, 272, 288, 293, 306, 325, 331, 348, 353, 358, 369, 422, 431, 432, 455, 463, 464, 467, 468, 472, 492, 493, 512, 519, 527, 540, 543, 544, 555, 556, 568, 571, 575, 576, 592, 596, 598, 599, 600, 604, 624, 682, 687, 738, 745, 751, 790, 791, 800, 801, 900, 901, 917, 920, 921, 924, 938, 940, 968, 975, 999, 1005, 1081, 1111, 1185, 1196, 1200, 1209, 1212, 1247, 1252, 1258, 1280, 1299, 1304, 1309, 1327, 1355, 1372, 1380, 1392]\n",
      "----------------------------------------------------------------------------------------------------\n",
      "L2 =  [13, 24, 128, 173, 175, 251, 252, 295, 307, 328, 333, 336, 345, 372, 445, 519, 564, 568, 588, 631, 645, 726, 795, 797, 910, 1034, 1038, 1065, 1113, 1114, 1212, 1256, 1262, 1263, 1277, 1287, 1337, 1346, 1397]\n",
      "OPERATOR =  ornot\n",
      "OUTPUT AFTER OPERTION [0, 1, 2, 3, 4, 5, 6, 7, 8, 9, 10, 11, 12, 14, 15, 16, 17, 18, 19, 20, 21, 22, 23, 24, 25, 26, 27, 28, 29, 30, 31, 32, 33, 34, 35, 36, 37, 38, 39, 40, 41, 42, 43, 44, 45, 46, 47, 48, 49, 50, 51, 52, 53, 54, 55, 56, 57, 58, 59, 60, 61, 62, 63, 64, 65, 66, 67, 68, 69, 70, 71, 72, 73, 74, 75, 76, 77, 78, 79, 80, 81, 82, 83, 84, 85, 86, 87, 88, 89, 90, 91, 92, 93, 94, 95, 96, 97, 98, 99, 100, 101, 102, 103, 104, 105, 106, 107, 108, 109, 110, 111, 112, 113, 114, 115, 116, 117, 118, 119, 120, 121, 122, 123, 124, 125, 126, 127, 129, 130, 131, 132, 133, 134, 135, 136, 137, 138, 139, 140, 141, 142, 143, 144, 145, 146, 147, 148, 149, 150, 151, 152, 153, 154, 155, 156, 157, 158, 159, 160, 161, 162, 163, 164, 165, 166, 167, 168, 169, 170, 171, 172, 174, 176, 177, 178, 179, 180, 181, 182, 183, 184, 185, 186, 187, 188, 189, 190, 191, 192, 193, 194, 195, 196, 197, 198, 199, 200, 201, 202, 203, 204, 205, 206, 207, 208, 209, 210, 211, 212, 213, 214, 215, 216, 217, 218, 219, 220, 221, 222, 223, 224, 225, 226, 227, 228, 229, 230, 231, 232, 233, 234, 235, 236, 237, 238, 239, 240, 241, 242, 243, 244, 245, 246, 247, 248, 249, 250, 253, 254, 255, 256, 257, 258, 259, 260, 261, 262, 263, 264, 265, 266, 267, 268, 269, 270, 271, 272, 273, 274, 275, 276, 277, 278, 279, 280, 281, 282, 283, 284, 285, 286, 287, 288, 289, 290, 291, 292, 293, 294, 296, 297, 298, 299, 300, 301, 302, 303, 304, 305, 306, 308, 309, 310, 311, 312, 313, 314, 315, 316, 317, 318, 319, 320, 321, 322, 323, 324, 325, 326, 327, 329, 330, 331, 332, 334, 335, 337, 338, 339, 340, 341, 342, 343, 344, 346, 347, 348, 349, 350, 351, 352, 353, 354, 355, 356, 357, 358, 359, 360, 361, 362, 363, 364, 365, 366, 367, 368, 369, 370, 371, 373, 374, 375, 376, 377, 378, 379, 380, 381, 382, 383, 384, 385, 386, 387, 388, 389, 390, 391, 392, 393, 394, 395, 396, 397, 398, 399, 400, 401, 402, 403, 404, 405, 406, 407, 408, 409, 410, 411, 412, 413, 414, 415, 416, 417, 418, 419, 420, 421, 422, 423, 424, 425, 426, 427, 428, 429, 430, 431, 432, 433, 434, 435, 436, 437, 438, 439, 440, 441, 442, 443, 444, 446, 447, 448, 449, 450, 451, 452, 453, 454, 455, 456, 457, 458, 459, 460, 461, 462, 463, 464, 465, 466, 467, 468, 469, 470, 471, 472, 473, 474, 475, 476, 477, 478, 479, 480, 481, 482, 483, 484, 485, 486, 487, 488, 489, 490, 491, 492, 493, 494, 495, 496, 497, 498, 499, 500, 501, 502, 503, 504, 505, 506, 507, 508, 509, 510, 511, 512, 513, 514, 515, 516, 517, 518, 519, 520, 521, 522, 523, 524, 525, 526, 527, 528, 529, 530, 531, 532, 533, 534, 535, 536, 537, 538, 539, 540, 541, 542, 543, 544, 545, 546, 547, 548, 549, 550, 551, 552, 553, 554, 555, 556, 557, 558, 559, 560, 561, 562, 563, 565, 566, 567, 568, 569, 570, 571, 572, 573, 574, 575, 576, 577, 578, 579, 580, 581, 582, 583, 584, 585, 586, 587, 589, 590, 591, 592, 593, 594, 595, 596, 597, 598, 599, 600, 601, 602, 603, 604, 605, 606, 607, 608, 609, 610, 611, 612, 613, 614, 615, 616, 617, 618, 619, 620, 621, 622, 623, 624, 625, 626, 627, 628, 629, 630, 632, 633, 634, 635, 636, 637, 638, 639, 640, 641, 642, 643, 644, 646, 647, 648, 649, 650, 651, 652, 653, 654, 655, 656, 657, 658, 659, 660, 661, 662, 663, 664, 665, 666, 667, 668, 669, 670, 671, 672, 673, 674, 675, 676, 677, 678, 679, 680, 681, 682, 683, 684, 685, 686, 687, 688, 689, 690, 691, 692, 693, 694, 695, 696, 697, 698, 699, 700, 701, 702, 703, 704, 705, 706, 707, 708, 709, 710, 711, 712, 713, 714, 715, 716, 717, 718, 719, 720, 721, 722, 723, 724, 725, 727, 728, 729, 730, 731, 732, 733, 734, 735, 736, 737, 738, 739, 740, 741, 742, 743, 744, 745, 746, 747, 748, 749, 750, 751, 752, 753, 754, 755, 756, 757, 758, 759, 760, 761, 762, 763, 764, 765, 766, 767, 768, 769, 770, 771, 772, 773, 774, 775, 776, 777, 778, 779, 780, 781, 782, 783, 784, 785, 786, 787, 788, 789, 790, 791, 792, 793, 794, 796, 798, 799, 800, 801, 802, 803, 804, 805, 806, 807, 808, 809, 810, 811, 812, 813, 814, 815, 816, 817, 818, 819, 820, 821, 822, 823, 824, 825, 826, 827, 828, 829, 830, 831, 832, 833, 834, 835, 836, 837, 838, 839, 840, 841, 842, 843, 844, 845, 846, 847, 848, 849, 850, 851, 852, 853, 854, 855, 856, 857, 858, 859, 860, 861, 862, 863, 864, 865, 866, 867, 868, 869, 870, 871, 872, 873, 874, 875, 876, 877, 878, 879, 880, 881, 882, 883, 884, 885, 886, 887, 888, 889, 890, 891, 892, 893, 894, 895, 896, 897, 898, 899, 900, 901, 902, 903, 904, 905, 906, 907, 908, 909, 911, 912, 913, 914, 915, 916, 917, 918, 919, 920, 921, 922, 923, 924, 925, 926, 927, 928, 929, 930, 931, 932, 933, 934, 935, 936, 937, 938, 939, 940, 941, 942, 943, 944, 945, 946, 947, 948, 949, 950, 951, 952, 953, 954, 955, 956, 957, 958, 959, 960, 961, 962, 963, 964, 965, 966, 967, 968, 969, 970, 971, 972, 973, 974, 975, 976, 977, 978, 979, 980, 981, 982, 983, 984, 985, 986, 987, 988, 989, 990, 991, 992, 993, 994, 995, 996, 997, 998, 999, 1000, 1001, 1002, 1003, 1004, 1005, 1006, 1007, 1008, 1009, 1010, 1011, 1012, 1013, 1014, 1015, 1016, 1017, 1018, 1019, 1020, 1021, 1022, 1023, 1024, 1025, 1026, 1027, 1028, 1029, 1030, 1031, 1032, 1033, 1035, 1036, 1037, 1039, 1040, 1041, 1042, 1043, 1044, 1045, 1046, 1047, 1048, 1049, 1050, 1051, 1052, 1053, 1054, 1055, 1056, 1057, 1058, 1059, 1060, 1061, 1062, 1063, 1064, 1066, 1067, 1068, 1069, 1070, 1071, 1072, 1073, 1074, 1075, 1076, 1077, 1078, 1079, 1080, 1081, 1082, 1083, 1084, 1085, 1086, 1087, 1088, 1089, 1090, 1091, 1092, 1093, 1094, 1095, 1096, 1097, 1098, 1099, 1100, 1101, 1102, 1103, 1104, 1105, 1106, 1107, 1108, 1109, 1110, 1111, 1112, 1115, 1116, 1117, 1118, 1119, 1120, 1121, 1122, 1123, 1124, 1125, 1126, 1127, 1128, 1129, 1130, 1131, 1132, 1133, 1134, 1135, 1136, 1137, 1138, 1139, 1140, 1141, 1142, 1143, 1144, 1145, 1146, 1147, 1148, 1149, 1150, 1151, 1152, 1153, 1154, 1155, 1156, 1157, 1158, 1159, 1160, 1161, 1162, 1163, 1164, 1165, 1166, 1167, 1168, 1169, 1170, 1171, 1172, 1173, 1174, 1175, 1176, 1177, 1178, 1179, 1180, 1181, 1182, 1183, 1184, 1185, 1186, 1187, 1188, 1189, 1190, 1191, 1192, 1193, 1194, 1195, 1196, 1197, 1198, 1199, 1200, 1201, 1202, 1203, 1204, 1205, 1206, 1207, 1208, 1209, 1210, 1211, 1212, 1213, 1214, 1215, 1216, 1217, 1218, 1219, 1220, 1221, 1222, 1223, 1224, 1225, 1226, 1227, 1228, 1229, 1230, 1231, 1232, 1233, 1234, 1235, 1236, 1237, 1238, 1239, 1240, 1241, 1242, 1243, 1244, 1245, 1246, 1247, 1248, 1249, 1250, 1251, 1252, 1253, 1254, 1255, 1257, 1258, 1259, 1260, 1261, 1264, 1265, 1266, 1267, 1268, 1269, 1270, 1271, 1272, 1273, 1274, 1275, 1276, 1278, 1279, 1280, 1281, 1282, 1283, 1284, 1285, 1286, 1288, 1289, 1290, 1291, 1292, 1293, 1294, 1295, 1296, 1297, 1298, 1299, 1300, 1301, 1302, 1303, 1304, 1305, 1306, 1307, 1308, 1309, 1310, 1311, 1312, 1313, 1314, 1315, 1316, 1317, 1318, 1319, 1320, 1321, 1322, 1323, 1324, 1325, 1326, 1327, 1328, 1329, 1330, 1331, 1332, 1333, 1334, 1335, 1336, 1338, 1339, 1340, 1341, 1342, 1343, 1344, 1345, 1347, 1348, 1349, 1350, 1351, 1352, 1353, 1354, 1355, 1356, 1357, 1358, 1359, 1360, 1361, 1362, 1363, 1364, 1365, 1366, 1367, 1368, 1369, 1370, 1371, 1372, 1373, 1374, 1375, 1376, 1377, 1378, 1379, 1380, 1381, 1382, 1383, 1384, 1385, 1386, 1387, 1388, 1389, 1390, 1391, 1392, 1393, 1394, 1395, 1396, 1398, 1399]\n",
      "----------------------------------------------------------------------------------------------------\n",
      "Number of documents retrieved for query 1 is : 1365\n",
      "Names of the documents retrieved for 1 is :\n",
      "['cranfield0001', 'cranfield0002', 'cranfield0003', 'cranfield0004', 'cranfield0005', 'cranfield0006', 'cranfield0007', 'cranfield0008', 'cranfield0009', 'cranfield0010', 'cranfield0011', 'cranfield0012', 'cranfield0013', 'cranfield0015', 'cranfield0016', 'cranfield0017', 'cranfield0018', 'cranfield0019', 'cranfield0020', 'cranfield0021', 'cranfield0022', 'cranfield0023', 'cranfield0024', 'cranfield0025', 'cranfield0026', 'cranfield0027', 'cranfield0028', 'cranfield0029', 'cranfield0030', 'cranfield0031', 'cranfield0032', 'cranfield0033', 'cranfield0034', 'cranfield0035', 'cranfield0036', 'cranfield0037', 'cranfield0038', 'cranfield0039', 'cranfield0040', 'cranfield0041', 'cranfield0042', 'cranfield0043', 'cranfield0044', 'cranfield0045', 'cranfield0046', 'cranfield0047', 'cranfield0048', 'cranfield0049', 'cranfield0050', 'cranfield0051', 'cranfield0052', 'cranfield0053', 'cranfield0054', 'cranfield0055', 'cranfield0056', 'cranfield0057', 'cranfield0058', 'cranfield0059', 'cranfield0060', 'cranfield0061', 'cranfield0062', 'cranfield0063', 'cranfield0064', 'cranfield0065', 'cranfield0066', 'cranfield0067', 'cranfield0068', 'cranfield0069', 'cranfield0070', 'cranfield0071', 'cranfield0072', 'cranfield0073', 'cranfield0074', 'cranfield0075', 'cranfield0076', 'cranfield0077', 'cranfield0078', 'cranfield0079', 'cranfield0080', 'cranfield0081', 'cranfield0082', 'cranfield0083', 'cranfield0084', 'cranfield0085', 'cranfield0086', 'cranfield0087', 'cranfield0088', 'cranfield0089', 'cranfield0090', 'cranfield0091', 'cranfield0092', 'cranfield0093', 'cranfield0094', 'cranfield0095', 'cranfield0096', 'cranfield0097', 'cranfield0098', 'cranfield0099', 'cranfield0100', 'cranfield0101', 'cranfield0102', 'cranfield0103', 'cranfield0104', 'cranfield0105', 'cranfield0106', 'cranfield0107', 'cranfield0108', 'cranfield0109', 'cranfield0110', 'cranfield0111', 'cranfield0112', 'cranfield0113', 'cranfield0114', 'cranfield0115', 'cranfield0116', 'cranfield0117', 'cranfield0118', 'cranfield0119', 'cranfield0120', 'cranfield0121', 'cranfield0122', 'cranfield0123', 'cranfield0124', 'cranfield0125', 'cranfield0126', 'cranfield0127', 'cranfield0128', 'cranfield0130', 'cranfield0131', 'cranfield0132', 'cranfield0133', 'cranfield0134', 'cranfield0135', 'cranfield0136', 'cranfield0137', 'cranfield0138', 'cranfield0139', 'cranfield0140', 'cranfield0141', 'cranfield0142', 'cranfield0143', 'cranfield0144', 'cranfield0145', 'cranfield0146', 'cranfield0147', 'cranfield0148', 'cranfield0149', 'cranfield0150', 'cranfield0151', 'cranfield0152', 'cranfield0153', 'cranfield0154', 'cranfield0155', 'cranfield0156', 'cranfield0157', 'cranfield0158', 'cranfield0159', 'cranfield0160', 'cranfield0161', 'cranfield0162', 'cranfield0163', 'cranfield0164', 'cranfield0165', 'cranfield0166', 'cranfield0167', 'cranfield0168', 'cranfield0169', 'cranfield0170', 'cranfield0171', 'cranfield0172', 'cranfield0173', 'cranfield0175', 'cranfield0177', 'cranfield0178', 'cranfield0179', 'cranfield0180', 'cranfield0181', 'cranfield0182', 'cranfield0183', 'cranfield0184', 'cranfield0185', 'cranfield0186', 'cranfield0187', 'cranfield0188', 'cranfield0189', 'cranfield0190', 'cranfield0191', 'cranfield0192', 'cranfield0193', 'cranfield0194', 'cranfield0195', 'cranfield0196', 'cranfield0197', 'cranfield0198', 'cranfield0199', 'cranfield0200', 'cranfield0201', 'cranfield0202', 'cranfield0203', 'cranfield0204', 'cranfield0205', 'cranfield0206', 'cranfield0207', 'cranfield0208', 'cranfield0209', 'cranfield0210', 'cranfield0211', 'cranfield0212', 'cranfield0213', 'cranfield0214', 'cranfield0215', 'cranfield0216', 'cranfield0217', 'cranfield0218', 'cranfield0219', 'cranfield0220', 'cranfield0221', 'cranfield0222', 'cranfield0223', 'cranfield0224', 'cranfield0225', 'cranfield0226', 'cranfield0227', 'cranfield0228', 'cranfield0229', 'cranfield0230', 'cranfield0231', 'cranfield0232', 'cranfield0233', 'cranfield0234', 'cranfield0235', 'cranfield0236', 'cranfield0237', 'cranfield0238', 'cranfield0239', 'cranfield0240', 'cranfield0241', 'cranfield0242', 'cranfield0243', 'cranfield0244', 'cranfield0245', 'cranfield0246', 'cranfield0247', 'cranfield0248', 'cranfield0249', 'cranfield0250', 'cranfield0251', 'cranfield0254', 'cranfield0255', 'cranfield0256', 'cranfield0257', 'cranfield0258', 'cranfield0259', 'cranfield0260', 'cranfield0261', 'cranfield0262', 'cranfield0263', 'cranfield0264', 'cranfield0265', 'cranfield0266', 'cranfield0267', 'cranfield0268', 'cranfield0269', 'cranfield0270', 'cranfield0271', 'cranfield0272', 'cranfield0273', 'cranfield0274', 'cranfield0275', 'cranfield0276', 'cranfield0277', 'cranfield0278', 'cranfield0279', 'cranfield0280', 'cranfield0281', 'cranfield0282', 'cranfield0283', 'cranfield0284', 'cranfield0285', 'cranfield0286', 'cranfield0287', 'cranfield0288', 'cranfield0289', 'cranfield0290', 'cranfield0291', 'cranfield0292', 'cranfield0293', 'cranfield0294', 'cranfield0295', 'cranfield0297', 'cranfield0298', 'cranfield0299', 'cranfield0300', 'cranfield0301', 'cranfield0302', 'cranfield0303', 'cranfield0304', 'cranfield0305', 'cranfield0306', 'cranfield0307', 'cranfield0309', 'cranfield0310', 'cranfield0311', 'cranfield0312', 'cranfield0313', 'cranfield0314', 'cranfield0315', 'cranfield0316', 'cranfield0317', 'cranfield0318', 'cranfield0319', 'cranfield0320', 'cranfield0321', 'cranfield0322', 'cranfield0323', 'cranfield0324', 'cranfield0325', 'cranfield0326', 'cranfield0327', 'cranfield0328', 'cranfield0330', 'cranfield0331', 'cranfield0332', 'cranfield0333', 'cranfield0335', 'cranfield0336', 'cranfield0338', 'cranfield0339', 'cranfield0340', 'cranfield0341', 'cranfield0342', 'cranfield0343', 'cranfield0344', 'cranfield0345', 'cranfield0347', 'cranfield0348', 'cranfield0349', 'cranfield0350', 'cranfield0351', 'cranfield0352', 'cranfield0353', 'cranfield0354', 'cranfield0355', 'cranfield0356', 'cranfield0357', 'cranfield0358', 'cranfield0359', 'cranfield0360', 'cranfield0361', 'cranfield0362', 'cranfield0363', 'cranfield0364', 'cranfield0365', 'cranfield0366', 'cranfield0367', 'cranfield0368', 'cranfield0369', 'cranfield0370', 'cranfield0371', 'cranfield0372', 'cranfield0374', 'cranfield0375', 'cranfield0376', 'cranfield0377', 'cranfield0378', 'cranfield0379', 'cranfield0380', 'cranfield0381', 'cranfield0382', 'cranfield0383', 'cranfield0384', 'cranfield0385', 'cranfield0386', 'cranfield0387', 'cranfield0388', 'cranfield0389', 'cranfield0390', 'cranfield0391', 'cranfield0392', 'cranfield0393', 'cranfield0394', 'cranfield0395', 'cranfield0396', 'cranfield0397', 'cranfield0398', 'cranfield0399', 'cranfield0400', 'cranfield0401', 'cranfield0402', 'cranfield0403', 'cranfield0404', 'cranfield0405', 'cranfield0406', 'cranfield0407', 'cranfield0408', 'cranfield0409', 'cranfield0410', 'cranfield0411', 'cranfield0412', 'cranfield0413', 'cranfield0414', 'cranfield0415', 'cranfield0416', 'cranfield0417', 'cranfield0418', 'cranfield0419', 'cranfield0420', 'cranfield0421', 'cranfield0422', 'cranfield0423', 'cranfield0424', 'cranfield0425', 'cranfield0426', 'cranfield0427', 'cranfield0428', 'cranfield0429', 'cranfield0430', 'cranfield0431', 'cranfield0432', 'cranfield0433', 'cranfield0434', 'cranfield0435', 'cranfield0436', 'cranfield0437', 'cranfield0438', 'cranfield0439', 'cranfield0440', 'cranfield0441', 'cranfield0442', 'cranfield0443', 'cranfield0444', 'cranfield0445', 'cranfield0447', 'cranfield0448', 'cranfield0449', 'cranfield0450', 'cranfield0451', 'cranfield0452', 'cranfield0453', 'cranfield0454', 'cranfield0455', 'cranfield0456', 'cranfield0457', 'cranfield0458', 'cranfield0459', 'cranfield0460', 'cranfield0461', 'cranfield0462', 'cranfield0463', 'cranfield0464', 'cranfield0465', 'cranfield0466', 'cranfield0467', 'cranfield0468', 'cranfield0469', 'cranfield0470', 'cranfield0471', 'cranfield0472', 'cranfield0473', 'cranfield0474', 'cranfield0475', 'cranfield0476', 'cranfield0477', 'cranfield0478', 'cranfield0479', 'cranfield0480', 'cranfield0481', 'cranfield0482', 'cranfield0483', 'cranfield0484', 'cranfield0485', 'cranfield0486', 'cranfield0487', 'cranfield0488', 'cranfield0489', 'cranfield0490', 'cranfield0491', 'cranfield0492', 'cranfield0493', 'cranfield0494', 'cranfield0495', 'cranfield0496', 'cranfield0497', 'cranfield0498', 'cranfield0499', 'cranfield0500', 'cranfield0501', 'cranfield0502', 'cranfield0503', 'cranfield0504', 'cranfield0505', 'cranfield0506', 'cranfield0507', 'cranfield0508', 'cranfield0509', 'cranfield0510', 'cranfield0511', 'cranfield0512', 'cranfield0513', 'cranfield0514', 'cranfield0515', 'cranfield0516', 'cranfield0517', 'cranfield0518', 'cranfield0519', 'cranfield0520', 'cranfield0521', 'cranfield0522', 'cranfield0523', 'cranfield0524', 'cranfield0525', 'cranfield0526', 'cranfield0527', 'cranfield0528', 'cranfield0529', 'cranfield0530', 'cranfield0531', 'cranfield0532', 'cranfield0533', 'cranfield0534', 'cranfield0535', 'cranfield0536', 'cranfield0537', 'cranfield0538', 'cranfield0539', 'cranfield0540', 'cranfield0541', 'cranfield0542', 'cranfield0543', 'cranfield0544', 'cranfield0545', 'cranfield0546', 'cranfield0547', 'cranfield0548', 'cranfield0549', 'cranfield0550', 'cranfield0551', 'cranfield0552', 'cranfield0553', 'cranfield0554', 'cranfield0555', 'cranfield0556', 'cranfield0557', 'cranfield0558', 'cranfield0559', 'cranfield0560', 'cranfield0561', 'cranfield0562', 'cranfield0563', 'cranfield0564', 'cranfield0566', 'cranfield0567', 'cranfield0568', 'cranfield0569', 'cranfield0570', 'cranfield0571', 'cranfield0572', 'cranfield0573', 'cranfield0574', 'cranfield0575', 'cranfield0576', 'cranfield0577', 'cranfield0578', 'cranfield0579', 'cranfield0580', 'cranfield0581', 'cranfield0582', 'cranfield0583', 'cranfield0584', 'cranfield0585', 'cranfield0586', 'cranfield0587', 'cranfield0588', 'cranfield0590', 'cranfield0591', 'cranfield0592', 'cranfield0593', 'cranfield0594', 'cranfield0595', 'cranfield0596', 'cranfield0597', 'cranfield0598', 'cranfield0599', 'cranfield0600', 'cranfield0601', 'cranfield0602', 'cranfield0603', 'cranfield0604', 'cranfield0605', 'cranfield0606', 'cranfield0607', 'cranfield0608', 'cranfield0609', 'cranfield0610', 'cranfield0611', 'cranfield0612', 'cranfield0613', 'cranfield0614', 'cranfield0615', 'cranfield0616', 'cranfield0617', 'cranfield0618', 'cranfield0619', 'cranfield0620', 'cranfield0621', 'cranfield0622', 'cranfield0623', 'cranfield0624', 'cranfield0625', 'cranfield0626', 'cranfield0627', 'cranfield0628', 'cranfield0629', 'cranfield0630', 'cranfield0631', 'cranfield0633', 'cranfield0634', 'cranfield0635', 'cranfield0636', 'cranfield0637', 'cranfield0638', 'cranfield0639', 'cranfield0640', 'cranfield0641', 'cranfield0642', 'cranfield0643', 'cranfield0644', 'cranfield0645', 'cranfield0647', 'cranfield0648', 'cranfield0649', 'cranfield0650', 'cranfield0651', 'cranfield0652', 'cranfield0653', 'cranfield0654', 'cranfield0655', 'cranfield0656', 'cranfield0657', 'cranfield0658', 'cranfield0659', 'cranfield0660', 'cranfield0661', 'cranfield0662', 'cranfield0663', 'cranfield0664', 'cranfield0665', 'cranfield0666', 'cranfield0667', 'cranfield0668', 'cranfield0669', 'cranfield0670', 'cranfield0671', 'cranfield0672', 'cranfield0673', 'cranfield0674', 'cranfield0675', 'cranfield0676', 'cranfield0677', 'cranfield0678', 'cranfield0679', 'cranfield0680', 'cranfield0681', 'cranfield0682', 'cranfield0683', 'cranfield0684', 'cranfield0685', 'cranfield0686', 'cranfield0687', 'cranfield0688', 'cranfield0689', 'cranfield0690', 'cranfield0691', 'cranfield0692', 'cranfield0693', 'cranfield0694', 'cranfield0695', 'cranfield0696', 'cranfield0697', 'cranfield0698', 'cranfield0699', 'cranfield0700', 'cranfield0701', 'cranfield0702', 'cranfield0703', 'cranfield0704', 'cranfield0705', 'cranfield0706', 'cranfield0707', 'cranfield0708', 'cranfield0709', 'cranfield0710', 'cranfield0711', 'cranfield0712', 'cranfield0713', 'cranfield0714', 'cranfield0715', 'cranfield0716', 'cranfield0717', 'cranfield0718', 'cranfield0719', 'cranfield0720', 'cranfield0721', 'cranfield0722', 'cranfield0723', 'cranfield0724', 'cranfield0725', 'cranfield0726', 'cranfield0728', 'cranfield0729', 'cranfield0730', 'cranfield0731', 'cranfield0732', 'cranfield0733', 'cranfield0734', 'cranfield0735', 'cranfield0736', 'cranfield0737', 'cranfield0738', 'cranfield0739', 'cranfield0740', 'cranfield0741', 'cranfield0742', 'cranfield0743', 'cranfield0744', 'cranfield0745', 'cranfield0746', 'cranfield0747', 'cranfield0748', 'cranfield0749', 'cranfield0750', 'cranfield0751', 'cranfield0752', 'cranfield0753', 'cranfield0754', 'cranfield0755', 'cranfield0756', 'cranfield0757', 'cranfield0758', 'cranfield0759', 'cranfield0760', 'cranfield0761', 'cranfield0762', 'cranfield0763', 'cranfield0764', 'cranfield0765', 'cranfield0766', 'cranfield0767', 'cranfield0768', 'cranfield0769', 'cranfield0770', 'cranfield0771', 'cranfield0772', 'cranfield0773', 'cranfield0774', 'cranfield0775', 'cranfield0776', 'cranfield0777', 'cranfield0778', 'cranfield0779', 'cranfield0780', 'cranfield0781', 'cranfield0782', 'cranfield0783', 'cranfield0784', 'cranfield0785', 'cranfield0786', 'cranfield0787', 'cranfield0788', 'cranfield0789', 'cranfield0790', 'cranfield0791', 'cranfield0792', 'cranfield0793', 'cranfield0794', 'cranfield0795', 'cranfield0797', 'cranfield0799', 'cranfield0800', 'cranfield0801', 'cranfield0802', 'cranfield0803', 'cranfield0804', 'cranfield0805', 'cranfield0806', 'cranfield0807', 'cranfield0808', 'cranfield0809', 'cranfield0810', 'cranfield0811', 'cranfield0812', 'cranfield0813', 'cranfield0814', 'cranfield0815', 'cranfield0816', 'cranfield0817', 'cranfield0818', 'cranfield0819', 'cranfield0820', 'cranfield0821', 'cranfield0822', 'cranfield0823', 'cranfield0824', 'cranfield0825', 'cranfield0826', 'cranfield0827', 'cranfield0828', 'cranfield0829', 'cranfield0830', 'cranfield0831', 'cranfield0832', 'cranfield0833', 'cranfield0834', 'cranfield0835', 'cranfield0836', 'cranfield0837', 'cranfield0838', 'cranfield0839', 'cranfield0840', 'cranfield0841', 'cranfield0842', 'cranfield0843', 'cranfield0844', 'cranfield0845', 'cranfield0846', 'cranfield0847', 'cranfield0848', 'cranfield0849', 'cranfield0850', 'cranfield0851', 'cranfield0852', 'cranfield0853', 'cranfield0854', 'cranfield0855', 'cranfield0856', 'cranfield0857', 'cranfield0858', 'cranfield0859', 'cranfield0860', 'cranfield0861', 'cranfield0862', 'cranfield0863', 'cranfield0864', 'cranfield0865', 'cranfield0866', 'cranfield0867', 'cranfield0868', 'cranfield0869', 'cranfield0870', 'cranfield0871', 'cranfield0872', 'cranfield0873', 'cranfield0874', 'cranfield0875', 'cranfield0876', 'cranfield0877', 'cranfield0878', 'cranfield0879', 'cranfield0880', 'cranfield0881', 'cranfield0882', 'cranfield0883', 'cranfield0884', 'cranfield0885', 'cranfield0886', 'cranfield0887', 'cranfield0888', 'cranfield0889', 'cranfield0890', 'cranfield0891', 'cranfield0892', 'cranfield0893', 'cranfield0894', 'cranfield0895', 'cranfield0896', 'cranfield0897', 'cranfield0898', 'cranfield0899', 'cranfield0900', 'cranfield0901', 'cranfield0902', 'cranfield0903', 'cranfield0904', 'cranfield0905', 'cranfield0906', 'cranfield0907', 'cranfield0908', 'cranfield0909', 'cranfield0910', 'cranfield0912', 'cranfield0913', 'cranfield0914', 'cranfield0915', 'cranfield0916', 'cranfield0917', 'cranfield0918', 'cranfield0919', 'cranfield0920', 'cranfield0921', 'cranfield0922', 'cranfield0923', 'cranfield0924', 'cranfield0925', 'cranfield0926', 'cranfield0927', 'cranfield0928', 'cranfield0929', 'cranfield0930', 'cranfield0931', 'cranfield0932', 'cranfield0933', 'cranfield0934', 'cranfield0935', 'cranfield0936', 'cranfield0937', 'cranfield0938', 'cranfield0939', 'cranfield0940', 'cranfield0941', 'cranfield0942', 'cranfield0943', 'cranfield0944', 'cranfield0945', 'cranfield0946', 'cranfield0947', 'cranfield0948', 'cranfield0949', 'cranfield0950', 'cranfield0951', 'cranfield0952', 'cranfield0953', 'cranfield0954', 'cranfield0955', 'cranfield0956', 'cranfield0957', 'cranfield0958', 'cranfield0959', 'cranfield0960', 'cranfield0961', 'cranfield0962', 'cranfield0963', 'cranfield0964', 'cranfield0965', 'cranfield0966', 'cranfield0967', 'cranfield0968', 'cranfield0969', 'cranfield0970', 'cranfield0971', 'cranfield0972', 'cranfield0973', 'cranfield0974', 'cranfield0975', 'cranfield0976', 'cranfield0977', 'cranfield0978', 'cranfield0979', 'cranfield0980', 'cranfield0981', 'cranfield0982', 'cranfield0983', 'cranfield0984', 'cranfield0985', 'cranfield0986', 'cranfield0987', 'cranfield0988', 'cranfield0989', 'cranfield0990', 'cranfield0991', 'cranfield0992', 'cranfield0993', 'cranfield0994', 'cranfield0995', 'cranfield0996', 'cranfield0997', 'cranfield0998', 'cranfield0999', 'cranfield1000', 'cranfield1001', 'cranfield1002', 'cranfield1003', 'cranfield1004', 'cranfield1005', 'cranfield1006', 'cranfield1007', 'cranfield1008', 'cranfield1009', 'cranfield1010', 'cranfield1011', 'cranfield1012', 'cranfield1013', 'cranfield1014', 'cranfield1015', 'cranfield1016', 'cranfield1017', 'cranfield1018', 'cranfield1019', 'cranfield1020', 'cranfield1021', 'cranfield1022', 'cranfield1023', 'cranfield1024', 'cranfield1025', 'cranfield1026', 'cranfield1027', 'cranfield1028', 'cranfield1029', 'cranfield1030', 'cranfield1031', 'cranfield1032', 'cranfield1033', 'cranfield1034', 'cranfield1036', 'cranfield1037', 'cranfield1038', 'cranfield1040', 'cranfield1041', 'cranfield1042', 'cranfield1043', 'cranfield1044', 'cranfield1045', 'cranfield1046', 'cranfield1047', 'cranfield1048', 'cranfield1049', 'cranfield1050', 'cranfield1051', 'cranfield1052', 'cranfield1053', 'cranfield1054', 'cranfield1055', 'cranfield1056', 'cranfield1057', 'cranfield1058', 'cranfield1059', 'cranfield1060', 'cranfield1061', 'cranfield1062', 'cranfield1063', 'cranfield1064', 'cranfield1065', 'cranfield1067', 'cranfield1068', 'cranfield1069', 'cranfield1070', 'cranfield1071', 'cranfield1072', 'cranfield1073', 'cranfield1074', 'cranfield1075', 'cranfield1076', 'cranfield1077', 'cranfield1078', 'cranfield1079', 'cranfield1080', 'cranfield1081', 'cranfield1082', 'cranfield1083', 'cranfield1084', 'cranfield1085', 'cranfield1086', 'cranfield1087', 'cranfield1088', 'cranfield1089', 'cranfield1090', 'cranfield1091', 'cranfield1092', 'cranfield1093', 'cranfield1094', 'cranfield1095', 'cranfield1096', 'cranfield1097', 'cranfield1098', 'cranfield1099', 'cranfield1100', 'cranfield1101', 'cranfield1102', 'cranfield1103', 'cranfield1104', 'cranfield1105', 'cranfield1106', 'cranfield1107', 'cranfield1108', 'cranfield1109', 'cranfield1110', 'cranfield1111', 'cranfield1112', 'cranfield1113', 'cranfield1116', 'cranfield1117', 'cranfield1118', 'cranfield1119', 'cranfield1120', 'cranfield1121', 'cranfield1122', 'cranfield1123', 'cranfield1124', 'cranfield1125', 'cranfield1126', 'cranfield1127', 'cranfield1128', 'cranfield1129', 'cranfield1130', 'cranfield1131', 'cranfield1132', 'cranfield1133', 'cranfield1134', 'cranfield1135', 'cranfield1136', 'cranfield1137', 'cranfield1138', 'cranfield1139', 'cranfield1140', 'cranfield1141', 'cranfield1142', 'cranfield1143', 'cranfield1144', 'cranfield1145', 'cranfield1146', 'cranfield1147', 'cranfield1148', 'cranfield1149', 'cranfield1150', 'cranfield1151', 'cranfield1152', 'cranfield1153', 'cranfield1154', 'cranfield1155', 'cranfield1156', 'cranfield1157', 'cranfield1158', 'cranfield1159', 'cranfield1160', 'cranfield1161', 'cranfield1162', 'cranfield1163', 'cranfield1164', 'cranfield1165', 'cranfield1166', 'cranfield1167', 'cranfield1168', 'cranfield1169', 'cranfield1170', 'cranfield1171', 'cranfield1172', 'cranfield1173', 'cranfield1174', 'cranfield1175', 'cranfield1176', 'cranfield1177', 'cranfield1178', 'cranfield1179', 'cranfield1180', 'cranfield1181', 'cranfield1182', 'cranfield1183', 'cranfield1184', 'cranfield1185', 'cranfield1186', 'cranfield1187', 'cranfield1188', 'cranfield1189', 'cranfield1190', 'cranfield1191', 'cranfield1192', 'cranfield1193', 'cranfield1194', 'cranfield1195', 'cranfield1196', 'cranfield1197', 'cranfield1198', 'cranfield1199', 'cranfield1200', 'cranfield1201', 'cranfield1202', 'cranfield1203', 'cranfield1204', 'cranfield1205', 'cranfield1206', 'cranfield1207', 'cranfield1208', 'cranfield1209', 'cranfield1210', 'cranfield1211', 'cranfield1212', 'cranfield1213', 'cranfield1214', 'cranfield1215', 'cranfield1216', 'cranfield1217', 'cranfield1218', 'cranfield1219', 'cranfield1220', 'cranfield1221', 'cranfield1222', 'cranfield1223', 'cranfield1224', 'cranfield1225', 'cranfield1226', 'cranfield1227', 'cranfield1228', 'cranfield1229', 'cranfield1230', 'cranfield1231', 'cranfield1232', 'cranfield1233', 'cranfield1234', 'cranfield1235', 'cranfield1236', 'cranfield1237', 'cranfield1238', 'cranfield1239', 'cranfield1240', 'cranfield1241', 'cranfield1242', 'cranfield1243', 'cranfield1244', 'cranfield1245', 'cranfield1246', 'cranfield1247', 'cranfield1248', 'cranfield1249', 'cranfield1250', 'cranfield1251', 'cranfield1252', 'cranfield1253', 'cranfield1254', 'cranfield1255', 'cranfield1256', 'cranfield1258', 'cranfield1259', 'cranfield1260', 'cranfield1261', 'cranfield1262', 'cranfield1265', 'cranfield1266', 'cranfield1267', 'cranfield1268', 'cranfield1269', 'cranfield1270', 'cranfield1271', 'cranfield1272', 'cranfield1273', 'cranfield1274', 'cranfield1275', 'cranfield1276', 'cranfield1277', 'cranfield1279', 'cranfield1280', 'cranfield1281', 'cranfield1282', 'cranfield1283', 'cranfield1284', 'cranfield1285', 'cranfield1286', 'cranfield1287', 'cranfield1289', 'cranfield1290', 'cranfield1291', 'cranfield1292', 'cranfield1293', 'cranfield1294', 'cranfield1295', 'cranfield1296', 'cranfield1297', 'cranfield1298', 'cranfield1299', 'cranfield1300', 'cranfield1301', 'cranfield1302', 'cranfield1303', 'cranfield1304', 'cranfield1305', 'cranfield1306', 'cranfield1307', 'cranfield1308', 'cranfield1309', 'cranfield1310', 'cranfield1311', 'cranfield1312', 'cranfield1313', 'cranfield1314', 'cranfield1315', 'cranfield1316', 'cranfield1317', 'cranfield1318', 'cranfield1319', 'cranfield1320', 'cranfield1321', 'cranfield1322', 'cranfield1323', 'cranfield1324', 'cranfield1325', 'cranfield1326', 'cranfield1327', 'cranfield1328', 'cranfield1329', 'cranfield1330', 'cranfield1331', 'cranfield1332', 'cranfield1333', 'cranfield1334', 'cranfield1335', 'cranfield1336', 'cranfield1337', 'cranfield1339', 'cranfield1340', 'cranfield1341', 'cranfield1342', 'cranfield1343', 'cranfield1344', 'cranfield1345', 'cranfield1346', 'cranfield1348', 'cranfield1349', 'cranfield1350', 'cranfield1351', 'cranfield1352', 'cranfield1353', 'cranfield1354', 'cranfield1355', 'cranfield1356', 'cranfield1357', 'cranfield1358', 'cranfield1359', 'cranfield1360', 'cranfield1361', 'cranfield1362', 'cranfield1363', 'cranfield1364', 'cranfield1365', 'cranfield1366', 'cranfield1367', 'cranfield1368', 'cranfield1369', 'cranfield1370', 'cranfield1371', 'cranfield1372', 'cranfield1373', 'cranfield1374', 'cranfield1375', 'cranfield1376', 'cranfield1377', 'cranfield1378', 'cranfield1379', 'cranfield1380', 'cranfield1381', 'cranfield1382', 'cranfield1383', 'cranfield1384', 'cranfield1385', 'cranfield1386', 'cranfield1387', 'cranfield1388', 'cranfield1389', 'cranfield1390', 'cranfield1391', 'cranfield1392', 'cranfield1393', 'cranfield1394', 'cranfield1395', 'cranfield1396', 'cranfield1397', 'cranfield1399', 'cranfield1400']\n",
      "Number of comparisons required for query 1 is : 1525\n",
      "------------------------------------------------------------------------------------------------------------------------------------------------------\n"
     ]
    }
   ],
   "source": [
    "t = int(input())\n",
    "\n",
    "for _ in range(t):\n",
    "    sequence  = input()\n",
    "    oper = input()\n",
    "\n",
    "    output_sequence = fn_module.preprocess(sequence)\n",
    " \n",
    "    operations = oper.split(',')\n",
    "\n",
    "    print(\"Processed sequence :\",output_sequence)\n",
    "    \n",
    "    query = output_sequence[0]+' '\n",
    "    i = 0\n",
    "    while( i < len(operations)):\n",
    "        query = query + operations[i] + ' ' + output_sequence[i+1] + ' '\n",
    "        i= i+1\n",
    "    \n",
    "    print(\"Final Query :\",query)\n",
    "\n",
    "    num_documents, operation_count = retrieve_documents(output_sequence, operations,inverted_index,True)\n",
    "    # num_documents, operation_count = retrieve_documents(output_sequence, operations,inverted_index)\n",
    "    \n",
    "    print(\"Number of documents retrieved for query \"+str(_+1)+\" is :\",len(num_documents))\n",
    "    print(\"Names of the documents retrieved for \"+str(_+1)+\" is :\")\n",
    "    \n",
    "    if len(num_documents)==0:\n",
    "        print(\"NO DOCUMENT FOUND!!\")\n",
    "    else:\n",
    "        doc_lst = []\n",
    "        for val in num_documents:\n",
    "            doc_lst.append(keys[val])\n",
    "        print(doc_lst)\n",
    "\n",
    "    print(\"Number of comparisons required for query \"+str(_+1)+\" is :\",operation_count)\n",
    "    print(\"-\"*150)\n",
    "\n",
    "    \n",
    "        "
   ]
  },
  {
   "cell_type": "code",
   "execution_count": 51,
   "id": "de46e698",
   "metadata": {},
   "outputs": [
    {
     "name": "stdout",
     "output_type": "stream",
     "text": [
      "[]\n"
     ]
    }
   ],
   "source": [
    "print(inverted_index[\"canister\"])"
   ]
  },
  {
   "cell_type": "code",
   "execution_count": 17,
   "id": "22cffa58",
   "metadata": {},
   "outputs": [
    {
     "data": {
      "text/plain": [
       "8969"
      ]
     },
     "execution_count": 17,
     "metadata": {},
     "output_type": "execute_result"
    }
   ],
   "source": [
    "len(inverted_index.keys())"
   ]
  }
 ],
 "metadata": {
  "kernelspec": {
   "display_name": "Python 3 (ipykernel)",
   "language": "python",
   "name": "python3"
  },
  "language_info": {
   "codemirror_mode": {
    "name": "ipython",
    "version": 3
   },
   "file_extension": ".py",
   "mimetype": "text/x-python",
   "name": "python",
   "nbconvert_exporter": "python",
   "pygments_lexer": "ipython3",
   "version": "3.9.12"
  },
  "vscode": {
   "interpreter": {
    "hash": "9c1d5a056f04d97314a9f946bc8c5185004572d3d68312220c0ba298420421f7"
   }
  }
 },
 "nbformat": 4,
 "nbformat_minor": 5
}

{
 "cells": [
  {
   "cell_type": "code",
   "execution_count": 66,
   "id": "3af7da2c",
   "metadata": {},
   "outputs": [],
   "source": [
    "import pandas as pd\n",
    "import numpy as np\n",
    "import re\n",
    "import os\n",
    "import string"
   ]
  },
  {
   "cell_type": "code",
   "execution_count": 67,
   "id": "d5bbfce5",
   "metadata": {},
   "outputs": [],
   "source": [
    "def read_file(directory = \"CSE508_Winter2023_Dataset_Processed\"):\n",
    "    data = {}\n",
    "    for filename in os.listdir(directory):    \n",
    "        file_path = os.path.join(directory, filename)\n",
    "        with open(file_path, 'r') as f:\n",
    "            file_contents = f.read()\n",
    "        data[filename] = file_contents\n",
    "    return data"
   ]
  },
  {
   "cell_type": "code",
   "execution_count": 68,
   "id": "5fe53626",
   "metadata": {},
   "outputs": [
    {
     "name": "stdout",
     "output_type": "stream",
     "text": [
      "File count =  1400\n"
     ]
    }
   ],
   "source": [
    "data = read_file()\n",
    "print(\"File count = \",len(data))"
   ]
  },
  {
   "cell_type": "code",
   "execution_count": 69,
   "id": "dd24eb8a",
   "metadata": {},
   "outputs": [],
   "source": [
    "keys = list(data.keys())"
   ]
  },
  {
   "cell_type": "code",
   "execution_count": 70,
   "id": "a2d2ede3",
   "metadata": {},
   "outputs": [],
   "source": [
    "# a_shape = (1,1400)\n",
    "# df = np.chararray(1400)\n",
    "# i = 0\n",
    "s = \"\";\n",
    "df = []\n",
    "for key in data:\n",
    "    df.append(data[key])\n"
   ]
  },
  {
   "cell_type": "code",
   "execution_count": 71,
   "id": "8a9ca3a5",
   "metadata": {},
   "outputs": [],
   "source": [
    "from collections import defaultdict\n",
    "\n",
    "def create_inverted_index(documents):\n",
    "    inverted_index = defaultdict(list)\n",
    "    \n",
    "    for doc_id, document in enumerate(documents):\n",
    "        for word in document.split():\n",
    "            inverted_index[word].append(doc_id)\n",
    "    \n",
    "    return inverted_index"
   ]
  },
  {
   "cell_type": "code",
   "execution_count": 72,
   "id": "d2d61b57",
   "metadata": {},
   "outputs": [],
   "source": [
    "inverted_index = create_inverted_index(df)\n"
   ]
  },
  {
   "cell_type": "code",
   "execution_count": 73,
   "id": "9089ca02",
   "metadata": {},
   "outputs": [],
   "source": [
    "\n",
    "import pickle\n",
    "from collections import defaultdict\n",
    "def save_inverted_index(inverted_index, file_path):\n",
    "    with open(file_path, 'wb') as f:\n",
    "        pickle.dump(inverted_index, f)\n",
    "\n",
    "def load_inverted_index(file_path):\n",
    "    with open(file_path, 'rb') as f:\n",
    "        inverted_index = pickle.load(f)\n",
    "    \n",
    "    return inverted_index"
   ]
  },
  {
   "cell_type": "code",
   "execution_count": 74,
   "id": "48103ca2",
   "metadata": {},
   "outputs": [],
   "source": [
    "file_path = 'inverted_index.pickle'\n",
    "save_inverted_index(inverted_index, file_path)\n",
    "\n",
    "inverted_index = load_inverted_index(file_path)"
   ]
  },
  {
   "cell_type": "code",
   "execution_count": 75,
   "id": "0afe90e8",
   "metadata": {},
   "outputs": [],
   "source": [
    "def T1_and_T2(inverted_index, word1, word2):\n",
    "    return set(T1(inverted_index, word1)) and set(T2(inverted_index, word2))\n",
    "\n",
    "def T1(inverted_index , word1):\n",
    "    return inverted_index[word1]\n",
    "\n",
    "def T2(inverted_index , word2):\n",
    "    return inverted_index[word2]\n"
   ]
  },
  {
   "cell_type": "code",
   "execution_count": 76,
   "id": "a09edd61",
   "metadata": {},
   "outputs": [],
   "source": [
    "# print('T1 AND T2:', T1_and_T2(inverted_index, \"experimental\", \"the\"))"
   ]
  },
  {
   "cell_type": "code",
   "execution_count": 77,
   "id": "96e55ed0",
   "metadata": {},
   "outputs": [],
   "source": [
    "def T1_and_not_T2(inverted_index, word1, word2):\n",
    "    return set(T1(inverted_index, word1)) and not set(T2(inverted_index, word2))\n",
    "\n",
    "def T1(inverted_index , word1):\n",
    "    return inverted_index[word1]\n",
    "\n",
    "def T2(inverted_index , word2):\n",
    "    return inverted_index[word2]\n"
   ]
  },
  {
   "cell_type": "code",
   "execution_count": 78,
   "id": "05aa84ae",
   "metadata": {},
   "outputs": [],
   "source": [
    "def T1_or_T2(inverted_index, word1, word2):\n",
    "    return set(T1(inverted_index, word1)) or set(T2(inverted_index, word2))\n",
    "\n",
    "def T1(inverted_index , word1):\n",
    "    return inverted_index[word1]\n",
    "\n",
    "def T2(inverted_index , word2):\n",
    "    return inverted_index[word2]"
   ]
  },
  {
   "cell_type": "code",
   "execution_count": 79,
   "id": "63c27707",
   "metadata": {},
   "outputs": [],
   "source": [
    "def T1_or_not_T2(inverted_index, word1, word2):\n",
    "    return set(T1(inverted_index, word1)) or not set(T2(inverted_index, word2))\n",
    "\n",
    "def T1(inverted_index , word1):\n",
    "    return inverted_index[word1]\n",
    "\n",
    "def T2(inverted_index , word2):\n",
    "    return inverted_index[word2]"
   ]
  },
  {
   "cell_type": "code",
   "execution_count": 80,
   "id": "9850290e",
   "metadata": {},
   "outputs": [
    {
     "name": "stderr",
     "output_type": "stream",
     "text": [
      "[nltk_data] Downloading package stopwords to\n",
      "[nltk_data]     C:\\Users\\Asus\\AppData\\Roaming\\nltk_data...\n",
      "[nltk_data]   Package stopwords is already up-to-date!\n"
     ]
    }
   ],
   "source": [
    "# def remove_stop_words(tokens):\n",
    "#     stop_words = set(stopwords.words('english'))\n",
    "\n",
    "#     tokens_clean = [token for token in tokens if token.lower() not in stop_words]\n",
    "#     return tokens_clean\n",
    "import nltk\n",
    "from nltk.corpus import stopwords\n",
    "nltk.download('stopwords')\n",
    "\n",
    "def remove_stopwords(input_sequence):\n",
    "#     stopwords = ['a', 'an', 'and', 'in', 'of', 'the', 'to']\n",
    "    stopword = set(stopwords.words('english'))\n",
    "    words = input_sequence.split()\n",
    "    output_sequence = [word for word in words if word.lower() not in stopword]\n",
    "    return ' '.join(output_sequence)"
   ]
  },
  {
   "cell_type": "code",
   "execution_count": 81,
   "id": "ff6b715a",
   "metadata": {},
   "outputs": [],
   "source": [
    "def count_comparisons(query, inverted_index):\n",
    "    terms = query.split()\n",
    "    inverted_lists = [inverted_index[term] for term in terms if term in inverted_index]\n",
    "    comparisons = 0\n",
    "    for inverted_list in inverted_lists:\n",
    "        comparisons += len(inverted_list)\n",
    "    return comparisons"
   ]
  },
  {
   "cell_type": "code",
   "execution_count": 82,
   "id": "af0ba2e0",
   "metadata": {},
   "outputs": [],
   "source": [
    "def retrieve_documents(output_sequence, operations , inverted_index):\n",
    "    l1 = set(T1(inverted_index , output_sequence[0]))\n",
    "    i = 0\n",
    "    while( i < np.size(operations)):\n",
    "        l2 = set(inverted_index[output_sequence[i+1]])\n",
    "        print(l1)\n",
    "        print(l2)\n",
    "        if(operations[i] == 'AND'):\n",
    "            l1 = l1 and l2\n",
    "        if(operations[i] == 'AND NOT'):\n",
    "            l1 = l1 and not l2\n",
    "        if(operations[i] == 'OR'):\n",
    "            l1 = l1 or l2\n",
    "        if(operations[i] == 'OR NOT'):\n",
    "            l1 = l1 or not l2\n",
    "        i= i+1\n",
    "    print(\"l1\")\n",
    "    print(l1)\n",
    "    return l1"
   ]
  },
  {
   "cell_type": "code",
   "execution_count": null,
   "id": "69c52739",
   "metadata": {},
   "outputs": [],
   "source": []
  },
  {
   "cell_type": "code",
   "execution_count": 84,
   "id": "3b3cd889",
   "metadata": {},
   "outputs": [
    {
     "name": "stdout",
     "output_type": "stream",
     "text": [
      "1\n",
      "transient heat flow\n",
      "OR,OR\n",
      "transient OR heat OR flow \n",
      "{1025, 1027, 4, 5, 901, 266, 394, 652, 273, 28, 29, 158, 545, 424, 1329, 1202, 699, 705, 706, 579, 81, 977, 979, 980, 90, 94, 868, 366, 1011}\n",
      "{4, 5, 517, 521, 523, 1039, 20, 21, 22, 23, 537, 538, 28, 541, 545, 546, 35, 36, 548, 549, 1060, 553, 554, 44, 558, 559, 48, 49, 50, 563, 1072, 53, 54, 565, 570, 571, 60, 61, 574, 578, 581, 71, 72, 73, 583, 584, 76, 585, 586, 1097, 80, 81, 1098, 83, 84, 1103, 1105, 87, 88, 1106, 90, 602, 605, 94, 97, 100, 101, 619, 622, 627, 628, 118, 119, 122, 634, 1146, 127, 130, 644, 645, 1158, 1160, 650, 654, 143, 144, 660, 661, 665, 667, 157, 158, 669, 1182, 1184, 162, 163, 1190, 167, 168, 1191, 1199, 688, 1203, 180, 1206, 184, 1212, 1214, 706, 1221, 1225, 1240, 1249, 1257, 1262, 239, 1263, 753, 766, 1278, 1280, 1281, 259, 261, 266, 267, 268, 269, 1294, 783, 273, 1299, 788, 282, 1306, 294, 301, 302, 1327, 304, 305, 309, 1334, 313, 1344, 1345, 1347, 324, 327, 328, 1354, 338, 341, 342, 343, 1365, 346, 347, 348, 349, 860, 351, 352, 1374, 868, 869, 1380, 871, 872, 1385, 363, 365, 1392, 1393, 1394, 377, 382, 386, 394, 395, 397, 398, 1099, 413, 943, 434, 435, 436, 437, 958, 961, 962, 462, 974, 977, 978, 979, 980, 981, 982, 484, 485, 1001, 1002, 508}\n",
      "{1025, 1027, 4, 5, 901, 266, 394, 652, 273, 28, 29, 158, 545, 424, 1329, 1202, 699, 705, 706, 579, 81, 977, 979, 980, 90, 94, 868, 366, 1011}\n",
      "{0, 1, 2, 3, 5, 8, 15, 17, 18, 20, 21, 22, 23, 24, 25, 26, 27, 32, 33, 34, 35, 36, 37, 38, 43, 44, 47, 48, 49, 50, 52, 53, 55, 56, 57, 58, 59, 60, 62, 63, 68, 69, 72, 73, 80, 83, 84, 85, 86, 87, 88, 90, 92, 93, 95, 96, 97, 102, 104, 105, 108, 109, 111, 114, 115, 117, 118, 120, 122, 123, 124, 127, 130, 131, 132, 133, 134, 137, 143, 145, 146, 147, 148, 149, 151, 154, 156, 158, 159, 160, 164, 165, 166, 168, 169, 170, 172, 173, 174, 175, 176, 178, 179, 181, 182, 183, 185, 186, 187, 188, 189, 190, 191, 192, 195, 196, 198, 200, 203, 204, 205, 206, 207, 210, 211, 212, 215, 216, 220, 221, 223, 226, 227, 228, 229, 230, 235, 239, 241, 242, 243, 247, 251, 256, 257, 260, 264, 265, 266, 267, 268, 269, 272, 276, 277, 279, 282, 286, 291, 293, 295, 296, 298, 302, 303, 304, 305, 306, 307, 308, 309, 310, 311, 312, 314, 315, 316, 317, 318, 321, 322, 323, 325, 326, 327, 328, 331, 333, 334, 339, 340, 341, 343, 345, 346, 347, 348, 350, 351, 355, 357, 359, 360, 362, 364, 365, 369, 370, 371, 372, 374, 375, 376, 377, 378, 379, 380, 381, 382, 384, 385, 386, 387, 388, 390, 392, 393, 394, 397, 400, 401, 403, 405, 406, 409, 416, 417, 419, 420, 422, 425, 426, 427, 429, 432, 434, 438, 439, 441, 442, 443, 444, 451, 452, 454, 455, 456, 457, 458, 463, 464, 465, 467, 468, 469, 471, 474, 476, 480, 484, 486, 489, 490, 493, 494, 495, 497, 499, 500, 502, 503, 506, 507, 510, 513, 520, 521, 522, 524, 525, 526, 527, 528, 529, 530, 533, 534, 535, 536, 538, 539, 540, 543, 544, 546, 548, 549, 555, 556, 559, 560, 561, 563, 564, 566, 568, 570, 571, 573, 574, 575, 576, 578, 582, 586, 587, 588, 589, 591, 592, 596, 599, 600, 601, 603, 605, 606, 609, 611, 622, 623, 624, 625, 626, 628, 629, 632, 633, 634, 636, 650, 652, 654, 655, 656, 658, 659, 660, 661, 662, 664, 665, 666, 668, 674, 679, 681, 682, 685, 686, 687, 689, 690, 691, 692, 695, 696, 698, 699, 700, 701, 703, 704, 709, 713, 718, 749, 750, 753, 756, 769, 770, 771, 772, 773, 774, 778, 780, 783, 784, 791, 792, 793, 794, 796, 797, 799, 801, 802, 813, 816, 817, 819, 824, 855, 856, 868, 871, 872, 891, 893, 894, 899, 900, 901, 902, 905, 906, 914, 915, 916, 917, 918, 919, 920, 921, 926, 932, 938, 939, 940, 941, 942, 943, 944, 946, 948, 958, 959, 964, 965, 966, 969, 974, 976, 978, 979, 980, 982, 983, 984, 985, 986, 987, 988, 989, 991, 992, 993, 997, 1001, 1002, 1005, 1006, 1008, 1009, 1013, 1039, 1060, 1071, 1072, 1073, 1077, 1079, 1080, 1081, 1082, 1083, 1084, 1085, 1103, 1104, 1105, 1106, 1107, 1109, 1111, 1118, 1123, 1127, 1138, 1140, 1142, 1143, 1147, 1148, 1150, 1152, 1153, 1155, 1156, 1158, 1163, 1178, 1179, 1180, 1181, 1183, 1185, 1186, 1188, 1189, 1192, 1193, 1194, 1197, 1199, 1200, 1201, 1202, 1203, 1204, 1206, 1208, 1209, 1211, 1219, 1220, 1221, 1223, 1224, 1227, 1228, 1229, 1230, 1231, 1232, 1234, 1235, 1237, 1238, 1240, 1243, 1244, 1247, 1248, 1249, 1250, 1252, 1253, 1254, 1258, 1259, 1261, 1264, 1265, 1266, 1267, 1268, 1269, 1271, 1272, 1273, 1274, 1276, 1277, 1279, 1280, 1281, 1282, 1283, 1286, 1294, 1295, 1300, 1301, 1302, 1303, 1306, 1308, 1309, 1312, 1318, 1320, 1322, 1323, 1324, 1327, 1338, 1340, 1350, 1352, 1353, 1355, 1366, 1369, 1370, 1372, 1374, 1376, 1381, 1384, 1385, 1389, 1390, 1392, 1393}\n",
      "l1\n",
      "{1025, 1027, 4, 5, 901, 266, 394, 652, 273, 28, 29, 158, 545, 424, 1329, 1202, 699, 705, 706, 579, 81, 977, 979, 980, 90, 94, 868, 366, 1011}\n",
      "29\n",
      "cranfield1026\n",
      "cranfield1028\n",
      "cranfield0005\n",
      "cranfield0006\n",
      "cranfield0902\n",
      "cranfield0267\n",
      "cranfield0395\n",
      "cranfield0653\n",
      "cranfield0274\n",
      "cranfield0029\n",
      "cranfield0030\n",
      "cranfield0159\n",
      "cranfield0546\n",
      "cranfield0425\n",
      "cranfield1330\n",
      "cranfield1203\n",
      "cranfield0700\n",
      "cranfield0706\n",
      "cranfield0707\n",
      "cranfield0580\n",
      "cranfield0082\n",
      "cranfield0978\n",
      "cranfield0980\n",
      "cranfield0981\n",
      "cranfield0091\n",
      "cranfield0095\n",
      "cranfield0869\n",
      "cranfield0367\n",
      "cranfield1012\n",
      "1776\n"
     ]
    }
   ],
   "source": [
    "t = int(input())\n",
    "while(t > 0):\n",
    "    t = t-1\n",
    "    sequence  = input()\n",
    "    oper = input()\n",
    "    output_sequence  = remove_stopwords(sequence).split(' ')\n",
    "\n",
    "    operations = oper.split(',')\n",
    "\n",
    "    query =output_sequence[0]+' '\n",
    "    i = 0\n",
    "    while( i < np.size(operations)):\n",
    "        query = query + operations[i] + ' ' + output_sequence[i+1] + ' '\n",
    "        i= i+1\n",
    "    print(query)\n",
    "    num_documents = retrieve_documents(output_sequence, operations,inverted_index)\n",
    "#     number of documents retrieved\n",
    "    print(len(num_documents))\n",
    "    \n",
    "#     name of the documents retreived\n",
    "    i = 0\n",
    "    for val in num_documents:\n",
    "        print(keys[val])\n",
    "        i=i+1\n",
    "#     total comparisons\n",
    "    print(count_comparisons(query,inverted_index))\n",
    "    \n",
    "        "
   ]
  },
  {
   "cell_type": "code",
   "execution_count": null,
   "id": "de46e698",
   "metadata": {},
   "outputs": [],
   "source": []
  },
  {
   "cell_type": "code",
   "execution_count": null,
   "id": "22cffa58",
   "metadata": {},
   "outputs": [],
   "source": []
  },
  {
   "cell_type": "code",
   "execution_count": null,
   "id": "99aa279f",
   "metadata": {},
   "outputs": [],
   "source": []
  },
  {
   "cell_type": "code",
   "execution_count": null,
   "id": "38f5bcd3",
   "metadata": {},
   "outputs": [],
   "source": []
  },
  {
   "cell_type": "code",
   "execution_count": null,
   "id": "8adccf4c",
   "metadata": {},
   "outputs": [],
   "source": []
  }
 ],
 "metadata": {
  "kernelspec": {
   "display_name": "Python 3 (ipykernel)",
   "language": "python",
   "name": "python3"
  },
  "language_info": {
   "codemirror_mode": {
    "name": "ipython",
    "version": 3
   },
   "file_extension": ".py",
   "mimetype": "text/x-python",
   "name": "python",
   "nbconvert_exporter": "python",
   "pygments_lexer": "ipython3",
   "version": "3.9.12"
  }
 },
 "nbformat": 4,
 "nbformat_minor": 5
}

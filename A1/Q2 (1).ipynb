{
 "cells": [
  {
   "cell_type": "code",
   "execution_count": 1,
   "id": "3af7da2c",
   "metadata": {},
   "outputs": [
    {
     "name": "stderr",
     "output_type": "stream",
     "text": [
      "[nltk_data] Downloading package stopwords to\n",
      "[nltk_data]     C:\\Users\\asus\\AppData\\Roaming\\nltk_data...\n",
      "[nltk_data]   Package stopwords is already up-to-date!\n"
     ]
    }
   ],
   "source": [
    "import pandas as pd\n",
    "import numpy as np\n",
    "import re\n",
    "import os\n",
    "import string\n",
    "import fn_module\n",
    "from fn_module import *"
   ]
  },
  {
   "cell_type": "code",
   "execution_count": 2,
   "id": "5fe53626",
   "metadata": {},
   "outputs": [
    {
     "name": "stdout",
     "output_type": "stream",
     "text": [
      "File count =  1400\n"
     ]
    }
   ],
   "source": [
    "data = fn_module.read_file(\"CSE508_Winter2023_Dataset_Processed_new\")\n",
    "print(\"File count = \",len(data))"
   ]
  },
  {
   "cell_type": "code",
   "execution_count": 3,
   "id": "dd24eb8a",
   "metadata": {},
   "outputs": [],
   "source": [
    "keys = list(data.keys())"
   ]
  },
  {
   "cell_type": "code",
   "execution_count": 4,
   "id": "a2d2ede3",
   "metadata": {},
   "outputs": [],
   "source": [
    "s = \"\"\n",
    "df = []\n",
    "for key in data:\n",
    "    df.append(data[key])\n"
   ]
  },
  {
   "cell_type": "code",
   "execution_count": 5,
   "id": "8a9ca3a5",
   "metadata": {},
   "outputs": [],
   "source": [
    "from collections import defaultdict\n",
    "\n",
    "def create_inverted_index(documents):\n",
    "    inverted_index = defaultdict(list)\n",
    "    \n",
    "    for doc_id, document in enumerate(documents):\n",
    "        for word in document.split():\n",
    "            inverted_index[word].append(doc_id)\n",
    "    \n",
    "    return inverted_index"
   ]
  },
  {
   "cell_type": "code",
   "execution_count": 6,
   "id": "d2d61b57",
   "metadata": {},
   "outputs": [],
   "source": [
    "inverted_index = create_inverted_index(df)"
   ]
  },
  {
   "cell_type": "code",
   "execution_count": 7,
   "id": "9089ca02",
   "metadata": {},
   "outputs": [],
   "source": [
    "\n",
    "import pickle\n",
    "from collections import defaultdict\n",
    "def save_inverted_index(inverted_index, file_path):\n",
    "    with open(file_path, 'wb') as f:\n",
    "        pickle.dump(inverted_index, f)\n",
    "\n",
    "def load_inverted_index(file_path):\n",
    "    with open(file_path, 'rb') as f:\n",
    "        inverted_index = pickle.load(f)\n",
    "    \n",
    "    return inverted_index"
   ]
  },
  {
   "cell_type": "code",
   "execution_count": 8,
   "id": "48103ca2",
   "metadata": {},
   "outputs": [],
   "source": [
    "file_path = 'inverted_index.pickle'\n",
    "save_inverted_index(inverted_index, file_path)\n",
    "\n",
    "inverted_index = load_inverted_index(file_path)"
   ]
  },
  {
   "cell_type": "code",
   "execution_count": 9,
   "id": "08813964",
   "metadata": {},
   "outputs": [],
   "source": [
    "def get_list(inverted_index , word):\n",
    "    return inverted_index[word]"
   ]
  },
  {
   "cell_type": "code",
   "execution_count": 10,
   "id": "9ae57e09",
   "metadata": {},
   "outputs": [],
   "source": [
    "def and_operation(s1, s2):\n",
    "    ptr_1 = 0\n",
    "    ptr_2 = 0\n",
    "    final_set = set()\n",
    "    s_1 = sorted(s1)\n",
    "    s_2 = sorted(s2)\n",
    "    count_comparisons = 0\n",
    "    len_1 = len(s_1)\n",
    "    len_2 = len(s_2)\n",
    "    while(ptr_1 < len_1 and ptr_2 < len_2):\n",
    "        if s_1[ptr_1]==s_2[ptr_2]:\n",
    "            ptr_2 = ptr_2 + 1\n",
    "            final_set.add(s_1[ptr_1])\n",
    "            ptr_1 = ptr_1 + 1\n",
    "        elif s_1[ptr_1] > s_2[ptr_2]:\n",
    "            ptr_2 = ptr_2 + 1\n",
    "        else:\n",
    "            ptr_1 = ptr_1 + 1\n",
    "        count_comparisons += 1\n",
    "    return final_set, count_comparisons"
   ]
  },
  {
   "cell_type": "code",
   "execution_count": 11,
   "id": "f9eceefa",
   "metadata": {},
   "outputs": [],
   "source": [
    "def or_operation(s1, s2):\n",
    "    ptr_1 = 0\n",
    "    ptr_2 = 0\n",
    "    final_set = set()\n",
    "    s_1 = sorted(s1)\n",
    "    s_2 = sorted(s2)\n",
    "    count_comparisons = 0\n",
    "    len_1 = len(s_1)\n",
    "    len_2 = len(s_2)\n",
    "    while(ptr_1 < len_1 and ptr_2 < len_2):\n",
    "        if s_1[ptr_1]==s_2[ptr_2]:\n",
    "            ptr_2 = ptr_2 + 1\n",
    "            final_set.add(s_1[ptr_1])\n",
    "            ptr_1 = ptr_1 + 1\n",
    "        elif s_1[ptr_1] > s_2[ptr_2]:\n",
    "            final_set.add(s_2[ptr_2])\n",
    "            ptr_2 = ptr_2 + 1\n",
    "        else:\n",
    "            final_set.add(s_1[ptr_1])\n",
    "            ptr_1 = ptr_1 + 1\n",
    "        count_comparisons += 1\n",
    "        \n",
    "    while(ptr_1 < len_1):\n",
    "        final_set.add(s_1[ptr_1])\n",
    "        ptr_1 += 1\n",
    "        \n",
    "    while(ptr_2 < len_2):\n",
    "        final_set.add(s_2[ptr_2])\n",
    "        ptr_2 += 1\n",
    "        \n",
    "    result = sorted(final_set)\n",
    "        \n",
    "    return result, count_comparisons"
   ]
  },
  {
   "cell_type": "code",
   "execution_count": 12,
   "id": "c598c74e",
   "metadata": {},
   "outputs": [],
   "source": [
    "def ornot_operation(s1, s2):\n",
    "    ptr_1 = 0\n",
    "    ptr_2 = 0\n",
    "    final_set = set()\n",
    "    s_1 = sorted(s1)\n",
    "    s_2 = sorted(s2)\n",
    "    count_comparisons = 0\n",
    "    len_1 = len(s_1)\n",
    "    len_2 = len(s_2)\n",
    "    while(ptr_1 < len_1 and ptr_2 < len_2):\n",
    "        if s_1[ptr_1]==s_2[ptr_2]:\n",
    "            ptr_1 = ptr_1 + 1\n",
    "            ptr_2 = ptr_2 + 1\n",
    "        elif s_1[ptr_1] > s_2[ptr_2]:\n",
    "            ptr_2 = ptr_2 + 1\n",
    "        else:\n",
    "            final_set.add(s_1[ptr_1])\n",
    "            ptr_1 = ptr_1 + 1\n",
    "        count_comparisons += 1\n",
    "        \n",
    "    while(ptr_1 < len_1):\n",
    "        final_set.add(s_1[ptr_1])\n",
    "        ptr_1 += 1\n",
    "        \n",
    "        \n",
    "    result = sorted(final_set)\n",
    "        \n",
    "    return result, count_comparisons"
   ]
  },
  {
   "cell_type": "code",
   "execution_count": 13,
   "id": "dfe0fd52",
   "metadata": {},
   "outputs": [],
   "source": [
    "def andnot_operation(s1, s2):\n",
    "    ptr_1 = 0\n",
    "    ptr_2 = 0\n",
    "    final_set = set()\n",
    "    s_1 = sorted(s1)\n",
    "    s_2 = sorted(s2)\n",
    "    count_comparisons = 0\n",
    "    len_1 = len(s_1)\n",
    "    len_2 = len(s_2)\n",
    "    while(ptr_1 < len_1 and ptr_2 < len_2):\n",
    "        if s_1[ptr_1]==s_2[ptr_2]:\n",
    "            ptr_1 = ptr_1 + 1\n",
    "            ptr_2 = ptr_2 + 1\n",
    "        elif s_1[ptr_1] > s_2[ptr_2]:\n",
    "            final_set.add(s_2[ptr_2])\n",
    "            ptr_2 = ptr_2 + 1\n",
    "        else:\n",
    "            ptr_1 = ptr_1 + 1\n",
    "        count_comparisons += 1\n",
    "    return final_set, count_comparisons"
   ]
  },
  {
   "cell_type": "code",
   "execution_count": 14,
   "id": "af0ba2e0",
   "metadata": {},
   "outputs": [],
   "source": [
    "def retrieve_documents(output_sequence, operations , inverted_index, log = False):\n",
    "    count = 0\n",
    "    l1 = get_list(inverted_index,output_sequence[0])\n",
    "    if log:\n",
    "        print(\"L1 = \",l1)\n",
    "    for i in range(len(operations)):\n",
    "        l2 = get_list(inverted_index,output_sequence[i+1])\n",
    "        if log:\n",
    "            print(\"L2 = \",l2)\n",
    "        op = []\n",
    "        if(operations[i] == 'AND'):\n",
    "            op, count_temp = and_operation(l1,l2)\n",
    "        elif(operations[i] == 'AND NOT'):\n",
    "            op, count_temp = andnot_operation(l1,l2)\n",
    "        elif(operations[i] == 'OR'):\n",
    "            op, count_temp = or_operation(l1,l2)\n",
    "        elif(operations[i] == 'OR NOT'):\n",
    "            op, count_temp = ornot_operation(l1,l2)\n",
    "        if log:\n",
    "            print(\"OPERATOR = \",operations[i])\n",
    "            print(\"OUTPUT AFTER OPERTION\",op)\n",
    "            print(\"-\"*100)\n",
    "        \n",
    "        l1 = op\n",
    "        count+=count_temp\n",
    "\n",
    "    return l1, count"
   ]
  },
  {
   "cell_type": "code",
   "execution_count": 20,
   "id": "3b3cd889",
   "metadata": {},
   "outputs": [
    {
     "name": "stdout",
     "output_type": "stream",
     "text": [
      "Processed sequence : ['car', 'bag', 'canister']\n",
      "Final Query : car OR bag  AND NOT canister \n",
      "['car', 'bag', 'canister']\n",
      "Number of documents retrieved for query 'car OR bag  AND NOT canister ' is : 0\n",
      "Names of the documents retrieved for 'car OR bag  AND NOT canister ' is :\n",
      "NO DOCUMENT FOUND!!\n",
      "Number of comparisons required for 'car OR bag  AND NOT canister ' is : 0\n",
      "------------------------------------------------------------------------------------------------------------------------------------------------------\n",
      "Processed sequence : ['coffee', 'brewing', 'techniques', 'cookbook']\n",
      "Final Query : coffee AND brewing  OR NOT techniques  OR cookbook \n",
      "['coffee', 'brewing', 'techniques', 'cookbook']\n",
      "Number of documents retrieved for query 'coffee AND brewing  OR NOT techniques  OR cookbook ' is : 0\n",
      "Names of the documents retrieved for 'coffee AND brewing  OR NOT techniques  OR cookbook ' is :\n",
      "NO DOCUMENT FOUND!!\n",
      "Number of comparisons required for 'coffee AND brewing  OR NOT techniques  OR cookbook ' is : 0\n",
      "------------------------------------------------------------------------------------------------------------------------------------------------------\n"
     ]
    }
   ],
   "source": [
    "t = int(input())\n",
    "\n",
    "while(t > 0):\n",
    "    t = t-1\n",
    "    sequence  = input()\n",
    "    oper = input()\n",
    "\n",
    "    output_sequence = fn_module.preprocess(sequence)\n",
    " \n",
    "    operations = oper.split(',')\n",
    "    print(\"Processed sequence :\",output_sequence)\n",
    "    query = output_sequence[0]+' '\n",
    "    i = 0\n",
    "    while( i < np.size(operations)):\n",
    "        query = query + operations[i] + ' ' + output_sequence[i+1] + ' '\n",
    "        i= i+1\n",
    "    print(\"Final Query :\",query)\n",
    "\n",
    "    # num_documents, operation_count = retrieve_documents(output_sequence, operations,inverted_index,True)\n",
    "    num_documents, operation_count = retrieve_documents(output_sequence, operations,inverted_index)\n",
    "    \n",
    "    print(\"Number of documents retrieved for query\",\"'\"+query+\"'\",\"is :\",len(num_documents))\n",
    "    print(\"Names of the documents retrieved for\",\"'\"+query+\"'\",\"is :\")\n",
    "    \n",
    "    if len(num_documents)==0:\n",
    "        print(\"NO DOCUMENT FOUND!!\")\n",
    "    else:\n",
    "        doc_lst = []\n",
    "        for val in num_documents:\n",
    "            doc_lst.append(keys[val])\n",
    "        print(doc_lst)\n",
    "\n",
    "    print(\"Number of comparisons required for\",\"'\"+query+\"'\",\"is :\",operation_count)\n",
    "    print(\"-\"*150)\n",
    "\n",
    "    \n",
    "        "
   ]
  },
  {
   "cell_type": "code",
   "execution_count": 16,
   "id": "de46e698",
   "metadata": {},
   "outputs": [
    {
     "name": "stdout",
     "output_type": "stream",
     "text": [
      "[]\n"
     ]
    }
   ],
   "source": [
    "print(inverted_index[\"canister\"])"
   ]
  },
  {
   "cell_type": "code",
   "execution_count": 17,
   "id": "22cffa58",
   "metadata": {},
   "outputs": [
    {
     "data": {
      "text/plain": [
       "8969"
      ]
     },
     "execution_count": 17,
     "metadata": {},
     "output_type": "execute_result"
    }
   ],
   "source": [
    "len(inverted_index.keys())"
   ]
  }
 ],
 "metadata": {
  "kernelspec": {
   "display_name": "base",
   "language": "python",
   "name": "python3"
  },
  "language_info": {
   "codemirror_mode": {
    "name": "ipython",
    "version": 3
   },
   "file_extension": ".py",
   "mimetype": "text/x-python",
   "name": "python",
   "nbconvert_exporter": "python",
   "pygments_lexer": "ipython3",
   "version": "3.9.12"
  },
  "vscode": {
   "interpreter": {
    "hash": "9c1d5a056f04d97314a9f946bc8c5185004572d3d68312220c0ba298420421f7"
   }
  }
 },
 "nbformat": 4,
 "nbformat_minor": 5
}

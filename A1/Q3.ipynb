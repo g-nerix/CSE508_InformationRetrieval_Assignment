{
 "cells": [
  {
   "cell_type": "code",
   "execution_count": 1,
   "id": "5220969d",
   "metadata": {},
   "outputs": [
    {
     "name": "stderr",
     "output_type": "stream",
     "text": [
      "[nltk_data] Downloading package stopwords to\n",
      "[nltk_data]     C:\\Users\\yukti\\AppData\\Roaming\\nltk_data...\n",
      "[nltk_data]   Package stopwords is already up-to-date!\n"
     ]
    }
   ],
   "source": [
    "import fn_module"
   ]
  },
  {
   "cell_type": "code",
   "execution_count": 2,
   "id": "2bd9d468",
   "metadata": {},
   "outputs": [
    {
     "name": "stdout",
     "output_type": "stream",
     "text": [
      "File count =  1400\n"
     ]
    }
   ],
   "source": [
    "data = fn_module.read_file(\"CSE508_Winter2023_Dataset_Processed_new\")\n",
    "print(\"File count = \", len(data))\n",
    "\n",
    "keys = list(data.keys())\n",
    "\n",
    "s = \"\"\n",
    "df = []\n",
    "for key in data:\n",
    "    df.append(data[key])\n"
   ]
  },
  {
   "cell_type": "code",
   "execution_count": 98,
   "id": "e673600d",
   "metadata": {},
   "outputs": [],
   "source": [
    "# from collections import defaultdict\n",
    "\n",
    "def create_inverted_index(documents):\n",
    "    inverted_index = {}\n",
    "    \n",
    "    \n",
    "    for doc_id, document in enumerate(documents):\n",
    "        string1 = document.split()\n",
    "        for word in range(len(string1)-1):\n",
    "            bi = string1[word] + \" \" + string1[word+1]\n",
    "            if bi not in inverted_index:\n",
    "                inverted_index[bi] = []\n",
    "            inverted_index[bi].append(doc_id)\n",
    "    \n",
    "    return inverted_index\n",
    "\n",
    "inverted_index = create_inverted_index(df)\n",
    "# print(inverted_index)\n"
   ]
  },
  {
   "cell_type": "code",
   "execution_count": 67,
   "id": "88440b34",
   "metadata": {},
   "outputs": [],
   "source": [
    "import pickle\n",
    "from collections import defaultdict\n",
    "\n",
    "inverted_index = create_inverted_index(df)\n",
    "\n",
    "def save_inverted_index(inverted_index, file_path):\n",
    "    with open(file_path, 'wb') as f:\n",
    "        pickle.dump(inverted_index, f)\n",
    "        \n",
    "def load_inverted_index(file_path):\n",
    "    with open(file_path, 'rb') as f:\n",
    "        inverted_index = pickle.load(f)\n",
    "        \n",
    "    return inverted_index"
   ]
  },
  {
   "cell_type": "code",
   "execution_count": 99,
   "id": "10caafc1",
   "metadata": {
    "scrolled": true
   },
   "outputs": [],
   "source": [
    "# from collections import defaultdict\n",
    "\n",
    "def create_positional_index(documents):\n",
    "    pos_index = {}\n",
    "#     pos_index = defaultdict(list)\n",
    "    for no_1, doc in enumerate(documents):\n",
    "        conv_lower = doc.lower()\n",
    "        for no_2, token_no in enumerate(conv_lower.split()):\n",
    "            if token_no not in pos_index:\n",
    "                pos_index[token_no] = {}\n",
    "#                 pos_index[token_no] = defaultdict(list)\n",
    "            if no_1 not in pos_index[token_no]:\n",
    "                pos_index[token_no][no_1] = []\n",
    "            pos_index[token_no][no_1].append(no_2)\n",
    "    return pos_index\n",
    "\n",
    "pos_index = create_positional_index(df)\n",
    "# print(pos_index)"
   ]
  },
  {
   "cell_type": "code",
   "execution_count": 100,
   "id": "8009a2ec",
   "metadata": {},
   "outputs": [],
   "source": [
    "import pickle \n",
    "def save_positional_index(pos_index, file_path):\n",
    "    with open(file_path, 'wb') as f:\n",
    "        pickle.dump(pos_index, f)\n",
    "        \n",
    "def load_positional_index(file_path):\n",
    "    with open(file_path, 'rb') as f:\n",
    "        pos_index = pickle.load(f)\n",
    "    return pos_index"
   ]
  },
  {
   "cell_type": "code",
   "execution_count": 101,
   "id": "88c57173",
   "metadata": {},
   "outputs": [],
   "source": [
    "def and_operation(s1, s2):\n",
    "    ptr_1 = 0\n",
    "    ptr_2 = 0\n",
    "    final_set = set()\n",
    "    count_comparisons = 0\n",
    "    if(s1 is not None) and (s2 is not None):\n",
    "        s_1 = sorted(s1)\n",
    "        s_2 = sorted(s2)\n",
    "        len_1 = len(s_1)\n",
    "        len_2 = len(s_2)\n",
    "        while(ptr_1 < len_1 and ptr_2 < len_2):\n",
    "            if s_1[ptr_1]==s_2[ptr_2]:\n",
    "                ptr_2 = ptr_2 + 1\n",
    "                final_set.add(s_1[ptr_1])\n",
    "                ptr_1 = ptr_1 + 1\n",
    "            elif s_1[ptr_1] > s_2[ptr_2]:\n",
    "                ptr_2 = ptr_2 + 1\n",
    "            else:\n",
    "                ptr_1 = ptr_1 + 1\n",
    "            count_comparisons += 1\n",
    "    return final_set, count_comparisons\n",
    "\n"
   ]
  },
  {
   "cell_type": "code",
   "execution_count": 102,
   "id": "e7998219",
   "metadata": {},
   "outputs": [],
   "source": [
    "def get_list(inverted_index , word):\n",
    "    lists = inverted_index.get(word)\n",
    "    lists_2 = []\n",
    "    if lists is not None:\n",
    "        return lists\n",
    "    else:\n",
    "        return lists_2\n",
    "    return inverted_index.get(word)"
   ]
  },
  {
   "cell_type": "code",
   "execution_count": 103,
   "id": "b30682bb",
   "metadata": {},
   "outputs": [],
   "source": [
    "def retrieve_documents_bigram(bi_words, inverted_index, log = False):\n",
    "    count = 0\n",
    "    l1 = []\n",
    "\n",
    "    if len(bi_words)>0:\n",
    "        l1 = get_list(inverted_index,bi_words[0])\n",
    "        if log:\n",
    "            print(\"L1 :\",l1)\n",
    "        for i in range(1,len(bi_words)):\n",
    "            l2 = get_list(inverted_index,bi_words[i])\n",
    "            \n",
    "            l1, count = and_operation(l1,l2)\n",
    "\n",
    "            if log:\n",
    "                print(\"L\"+str(i+1),\":\",l2)\n",
    "                print(\"Final Output after Performing AND :\",l1)\n",
    "                \n",
    "    return l1,count"
   ]
  },
  {
   "cell_type": "code",
   "execution_count": 104,
   "id": "eb4c56ba",
   "metadata": {},
   "outputs": [],
   "source": [
    "def retrieve_documents_positional(positional_index, terms, log = False):\n",
    "    if len(terms) == 0:\n",
    "        return []\n",
    "    if terms[0] not in positional_index:\n",
    "        s1 = set()\n",
    "    else:\n",
    "        s1 = set(positional_index[terms[0]].keys())\n",
    "    if log:\n",
    "        print(\"L1 =\",list(s1))\n",
    "    \n",
    "    for term in terms:\n",
    "        if term in positional_index:\n",
    "            s1 = set.intersection(s1,set(positional_index[term].keys()))\n",
    "            if log:\n",
    "                print(\"L2 =\",set(positional_index[term].keys()))\n",
    "                print(\"List after AND Operation =\",list(s1))\n",
    "    return list(s1)"
   ]
  },
  {
   "cell_type": "code",
   "execution_count": 106,
   "id": "5f877420",
   "metadata": {},
   "outputs": [
    {
     "name": "stdout",
     "output_type": "stream",
     "text": [
      "1\n",
      "bluntnosed slender larger\n",
      "Number of documents retrieved for query 1 using bigram inverted index : 0\n",
      "Names of the documents retrieved for query 1 using bigram inverted index :\n",
      "NO DOCUMENT FOUND!!\n",
      "Number of documents retrieved for query 1 using positional index : 1\n",
      "Names of the documents retrieved for query 1 using positional index :\n",
      "NO DOCUMENT FOUND!!\n",
      "------------------------------------------------------------------------------------------------------------------------------------------------------\n"
     ]
    }
   ],
   "source": [
    "\n",
    "t = int(input())\n",
    "for _ in range(t):\n",
    "    sentence = input()\n",
    "    trans_sentence = fn_module.preprocess(sentence)\n",
    "    # print(\"Processed sequence : \",trans_sentence)\n",
    "    \n",
    "    bi_words = []\n",
    "    for word in range(len(trans_sentence)-1):\n",
    "        string = trans_sentence[word] +\" \"+ trans_sentence[word+1]\n",
    "        bi_words.append(string)\n",
    "        \n",
    "    # print(\"bi_word sequence : \",bi_words)\n",
    "\n",
    "    l,count = retrieve_documents_bigram(bi_words, inverted_index)\n",
    "    \n",
    "    print(\"Number of documents retrieved for query \"+str(_+1)+\" using bigram inverted index :\",len(l))\n",
    "  \n",
    "    print(\"Names of the documents retrieved for query \"+str(_+1)+\" using bigram inverted index :\")\n",
    "    \n",
    "    if len(l)==0:\n",
    "        print(\"NO DOCUMENT FOUND!!\")\n",
    "    else:\n",
    "        doc_lst = []\n",
    "        for val in l:\n",
    "            doc_lst.append(keys[val])\n",
    "        print(doc_lst)\n",
    "    # print(\"Number of comparisons required for query \"+str(_+1)+\" using bigram inverted index :\",count)\n",
    "\n",
    "\n",
    "    pos_lst = retrieve_documents_positional(pos_index,trans_sentence)\n",
    "\n",
    "    print(\"Number of documents retrieved for query \"+str(_+1)+\" using positional index :\",len(pos_lst))\n",
    "  \n",
    "    print(\"Names of the documents retrieved for query \"+str(_+1)+\" using positional index :\")\n",
    "    \n",
    "    if len(l)==0:\n",
    "        print(\"NO DOCUMENT FOUND!!\")\n",
    "    else:\n",
    "        doc_lst = []\n",
    "        for val in pos_lst:\n",
    "            doc_lst.append(keys[val])\n",
    "        print(doc_lst)\n",
    "    print(\"-\"*150)\n",
    "    \n",
    "\n",
    "    "
   ]
  }
 ],
 "metadata": {
  "kernelspec": {
   "display_name": "Python 3 (ipykernel)",
   "language": "python",
   "name": "python3"
  },
  "language_info": {
   "codemirror_mode": {
    "name": "ipython",
    "version": 3
   },
   "file_extension": ".py",
   "mimetype": "text/x-python",
   "name": "python",
   "nbconvert_exporter": "python",
   "pygments_lexer": "ipython3",
   "version": "3.10.6"
  },
  "vscode": {
   "interpreter": {
    "hash": "4bac288aa39488c199db7c1d2d3a4aa1846c8b7d5157a5261bbf38d0b7c4ca41"
   }
  }
 },
 "nbformat": 4,
 "nbformat_minor": 5
}

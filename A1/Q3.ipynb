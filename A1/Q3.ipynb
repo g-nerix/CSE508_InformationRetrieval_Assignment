{
 "cells": [
  {
   "cell_type": "code",
   "execution_count": 1,
   "id": "5220969d",
   "metadata": {},
   "outputs": [
    {
     "name": "stderr",
     "output_type": "stream",
     "text": [
      "[nltk_data] Downloading package stopwords to\n",
      "[nltk_data]     C:\\Users\\asus\\AppData\\Roaming\\nltk_data...\n",
      "[nltk_data]   Package stopwords is already up-to-date!\n"
     ]
    }
   ],
   "source": [
    "# import pandas as pd\n",
    "# import numpy as np\n",
    "# import re\n",
    "# import os\n",
    "# import string\n",
    "import fn_module\n",
    "from fn_module import *"
   ]
  },
  {
   "cell_type": "code",
   "execution_count": 2,
   "id": "2bd9d468",
   "metadata": {},
   "outputs": [
    {
     "name": "stdout",
     "output_type": "stream",
     "text": [
      "File count =  1400\n"
     ]
    }
   ],
   "source": [
    "data = fn_module.read_file(\"CSE508_Winter2023_Dataset_Processed_new\")\n",
    "print(\"File count = \", len(data))\n",
    "\n",
    "keys = list(data.keys())\n",
    "\n",
    "s = \"\"\n",
    "df = []\n",
    "for key in data:\n",
    "    df.append(data[key])\n"
   ]
  },
  {
   "cell_type": "code",
   "execution_count": 3,
   "id": "e673600d",
   "metadata": {},
   "outputs": [],
   "source": [
    "from collections import defaultdict\n",
    "\n",
    "def create_inverted_index(documents):\n",
    "    inverted_index = defaultdict(list)\n",
    "    \n",
    "    \n",
    "    for doc_id, document in enumerate(documents):\n",
    "        string1 = document.split()\n",
    "        for word in range(len(string1)-1):\n",
    "            bi_string = string1[word:word+2]\n",
    "            bi = \" \".join(bi_string)\n",
    "            inverted_index[bi].append(doc_id)\n",
    "    \n",
    "    return inverted_index\n",
    "\n",
    "\n"
   ]
  },
  {
   "cell_type": "code",
   "execution_count": 4,
   "id": "88440b34",
   "metadata": {},
   "outputs": [],
   "source": [
    "import pickle\n",
    "from collections import defaultdict\n",
    "\n",
    "inverted_index = create_inverted_index(df)\n",
    "\n",
    "def save_inverted_index(inverted_index, file_path):\n",
    "    with open(file_path, 'wb') as f:\n",
    "        pickle.dump(inverted_index, f)\n",
    "        \n",
    "def load_inverted_index(file_path):\n",
    "    with open(file_path, 'rb') as f:\n",
    "        inverted_index = pickle.load(f)\n",
    "        \n",
    "    return inverted_index"
   ]
  },
  {
   "cell_type": "code",
   "execution_count": 5,
   "id": "10caafc1",
   "metadata": {
    "scrolled": true
   },
   "outputs": [],
   "source": [
    "from collections import defaultdict\n",
    "\n",
    "def create_positional_index(documents):\n",
    "    pos_index = defaultdict(list)\n",
    "    for no_1, doc in enumerate(documents):\n",
    "        conv_lower = doc.lower()\n",
    "        for no_2, token_no in enumerate(conv_lower.split()):\n",
    "            if token_no not in pos_index:\n",
    "                pos_index[token_no] = defaultdict(list)\n",
    "            if no_2 not in pos_index[token_no]:\n",
    "                pos_index[token_no][no_1] = []\n",
    "            pos_index[token_no][no_1].append(no_2)\n",
    "    return pos_index\n",
    "\n",
    "pos_index = create_positional_index(df)\n"
   ]
  },
  {
   "cell_type": "code",
   "execution_count": 6,
   "id": "8009a2ec",
   "metadata": {},
   "outputs": [],
   "source": [
    "import pickle \n",
    "def save_positional_index(pos_index, file_path):\n",
    "    with open(file_path, 'wb') as f:\n",
    "        pickle.dump(pos_index, f)\n",
    "        \n",
    "def load_positional_index(file_path):\n",
    "    with open(file_path, 'rb') as f:\n",
    "        pos_index = pickle.load(f)\n",
    "    return pos_index"
   ]
  },
  {
   "cell_type": "code",
   "execution_count": 29,
   "id": "88c57173",
   "metadata": {},
   "outputs": [],
   "source": [
    "def and_operation(s1, s2):\n",
    "    ptr_1 = 0\n",
    "    ptr_2 = 0\n",
    "    final_set = set()\n",
    "    s_1 = sorted(s1)\n",
    "    s_2 = sorted(s2)\n",
    "    count_comparisons = 0\n",
    "    len_1 = len(s_1)\n",
    "    len_2 = len(s_2)\n",
    "    while(ptr_1 < len_1 and ptr_2 < len_2):\n",
    "        if s_1[ptr_1]==s_2[ptr_2]:\n",
    "            ptr_2 = ptr_2 + 1\n",
    "            final_set.add(s_1[ptr_1])\n",
    "            ptr_1 = ptr_1 + 1\n",
    "        elif s_1[ptr_1] > s_2[ptr_2]:\n",
    "            ptr_2 = ptr_2 + 1\n",
    "        else:\n",
    "            ptr_1 = ptr_1 + 1\n",
    "        count_comparisons += 1\n",
    "    return final_set, count_comparisons\n",
    "\n",
    "def or_operation(s1, s2):\n",
    "    ptr_1 = 0\n",
    "    ptr_2 = 0\n",
    "    final_set = set()\n",
    "    s_1 = sorted(s1)\n",
    "    s_2 = sorted(s2)\n",
    "    count_comparisons = 0\n",
    "    len_1 = len(s_1)\n",
    "    len_2 = len(s_2)\n",
    "    while(ptr_1 < len_1 and ptr_2 < len_2):\n",
    "        if s_1[ptr_1]==s_2[ptr_2]:\n",
    "            ptr_2 = ptr_2 + 1\n",
    "            final_set.add(s_1[ptr_1])\n",
    "            ptr_1 = ptr_1 + 1\n",
    "        elif s_1[ptr_1] > s_2[ptr_2]:\n",
    "            final_set.add(s_2[ptr_2])\n",
    "            ptr_2 = ptr_2 + 1\n",
    "        else:\n",
    "            final_set.add(s_1[ptr_1])\n",
    "            ptr_1 = ptr_1 + 1\n",
    "        count_comparisons += 1\n",
    "        \n",
    "    while(ptr_1 < len_1):\n",
    "        final_set.add(s_1[ptr_1])\n",
    "        ptr_1 += 1\n",
    "        \n",
    "    while(ptr_2 < len_2):\n",
    "        final_set.add(s_2[ptr_2])\n",
    "        ptr_2 += 1\n",
    "        \n",
    "    result = sorted(final_set)\n",
    "        \n",
    "    return result, count_comparisons\n",
    "\n",
    "def ornot_operation(s1, s2):\n",
    "    ptr_1 = 0\n",
    "    ptr_2 = 0\n",
    "    final_set = set()\n",
    "    s_1 = sorted(s1)\n",
    "    s_2 = sorted(s2)\n",
    "    count_comparisons = 0\n",
    "    len_1 = len(s_1)\n",
    "    len_2 = len(s_2)\n",
    "    while(ptr_1 < len_1 and ptr_2 < len_2):\n",
    "        if s_1[ptr_1]==s_2[ptr_2]:\n",
    "            ptr_1 = ptr_1 + 1\n",
    "            ptr_2 = ptr_2 + 1\n",
    "        elif s_1[ptr_1] > s_2[ptr_2]:\n",
    "            ptr_2 = ptr_2 + 1\n",
    "        else:\n",
    "            final_set.add(s_1[ptr_1])\n",
    "            ptr_1 = ptr_1 + 1\n",
    "        count_comparisons += 1\n",
    "        \n",
    "    while(ptr_1 < len_1):\n",
    "        final_set.add(s_1[ptr_1])\n",
    "        ptr_1 += 1\n",
    "        \n",
    "        \n",
    "    result = sorted(final_set)\n",
    "        \n",
    "    return result, count_comparisons\n",
    "\n",
    "def andnot_operation(s1, s2):\n",
    "    ptr_1 = 0\n",
    "    ptr_2 = 0\n",
    "    final_set = set()\n",
    "    s_1 = sorted(s1)\n",
    "    s_2 = sorted(s2)\n",
    "    count_comparisons = 0\n",
    "    len_1 = len(s_1)\n",
    "    len_2 = len(s_2)\n",
    "    while(ptr_1 < len_1 and ptr_2 < len_2):\n",
    "        if s_1[ptr_1]==s_2[ptr_2]:\n",
    "            ptr_1 = ptr_1 + 1\n",
    "            ptr_2 = ptr_2 + 1\n",
    "        elif s_1[ptr_1] > s_2[ptr_2]:\n",
    "            final_set.add(s_2[ptr_2])\n",
    "            ptr_2 = ptr_2 + 1\n",
    "        else:\n",
    "            ptr_1 = ptr_1 + 1\n",
    "        count_comparisons += 1\n",
    "    return final_set, count_comparisons\n"
   ]
  },
  {
   "cell_type": "code",
   "execution_count": 25,
   "id": "e7998219",
   "metadata": {},
   "outputs": [],
   "source": [
    "def get_list(inverted_index , word):\n",
    "    return inverted_index[word]"
   ]
  },
  {
   "cell_type": "code",
   "execution_count": 33,
   "id": "b30682bb",
   "metadata": {},
   "outputs": [],
   "source": [
    "def retrieve_documents_bigram(bi_words, inverted_index, log = False):\n",
    "    count = 0\n",
    "    l1 = []\n",
    "\n",
    "    if len(bi_words)>0:\n",
    "        l1 = get_list(inverted_index,bi_words[0])\n",
    "        if log:\n",
    "            print(\"L1 :\",l1)\n",
    "        for i in range(1,len(bi_words)):\n",
    "            l2 = get_list(inverted_index,bi_words[i])\n",
    "            \n",
    "            l1, count = and_operation(l1,l2)\n",
    "\n",
    "            if log:\n",
    "                print(\"L\"+str(i+1),\":\",l2)\n",
    "                print(\"Final Output after Performing AND :\",l1)\n",
    "                \n",
    "    return l1,count"
   ]
  },
  {
   "cell_type": "code",
   "execution_count": 62,
   "id": "eb4c56ba",
   "metadata": {},
   "outputs": [],
   "source": [
    "def retrieve_documents_positional(positional_index, terms, log = False):\n",
    "    if len(terms) == 0:\n",
    "        return []\n",
    "    s1 = set(positional_index[terms[0]].keys())\n",
    "    if log:\n",
    "        print(\"L1 =\",list(s1))\n",
    "    \n",
    "    for term in terms:\n",
    "        if term in positional_index:\n",
    "            s1 = set.intersection(s1,set(positional_index[term].keys()))\n",
    "            if log:\n",
    "                print(\"L2 =\",set(positional_index[term].keys()))\n",
    "                print(\"List after AND Operation =\",list(s1))\n",
    "    return list(s1)"
   ]
  },
  {
   "cell_type": "code",
   "execution_count": 68,
   "id": "5f877420",
   "metadata": {},
   "outputs": [
    {
     "name": "stdout",
     "output_type": "stream",
     "text": [
      "Number of documents retrieved for query 1 using bigram inverted index : 17\n",
      "Names of the documents retrieved for query 1 using bigram inverted index :\n",
      "['cranfield1220', 'cranfield0293', 'cranfield1381', 'cranfield0007', 'cranfield0040', 'cranfield0008', 'cranfield0043', 'cranfield0079', 'cranfield0080', 'cranfield0337', 'cranfield1264', 'cranfield1300', 'cranfield1205', 'cranfield0314', 'cranfield1211', 'cranfield0796', 'cranfield1278']\n",
      "Number of documents retrieved for query 1 using positional index : 50\n",
      "Names of the documents retrieved for query 1 using positional index :\n",
      "['cranfield1284', 'cranfield0133', 'cranfield0261', 'cranfield0007', 'cranfield0008', 'cranfield0009', 'cranfield0525', 'cranfield1040', 'cranfield0272', 'cranfield1300', 'cranfield0024', 'cranfield0668', 'cranfield0796', 'cranfield0798', 'cranfield1188', 'cranfield0293', 'cranfield0294', 'cranfield0933', 'cranfield0040', 'cranfield0043', 'cranfield1324', 'cranfield1325', 'cranfield0053', 'cranfield1205', 'cranfield0314', 'cranfield1211', 'cranfield0315', 'cranfield0959', 'cranfield1220', 'cranfield0079', 'cranfield0080', 'cranfield0207', 'cranfield0337', 'cranfield0338', 'cranfield0344', 'cranfield0089', 'cranfield0346', 'cranfield0094', 'cranfield0096', 'cranfield0992', 'cranfield0610', 'cranfield0996', 'cranfield1381', 'cranfield1257', 'cranfield1264', 'cranfield0244', 'cranfield1268', 'cranfield0504', 'cranfield0125', 'cranfield1278']\n",
      "------------------------------------------------------------------------------------------------------------------------------------------------------\n",
      "Number of documents retrieved for query 2 using bigram inverted index : 2\n",
      "Names of the documents retrieved for query 2 using bigram inverted index :\n",
      "['cranfield1381', 'cranfield0992']\n",
      "Number of documents retrieved for query 2 using positional index : 98\n",
      "Names of the documents retrieved for query 2 using positional index :\n",
      "['cranfield0007', 'cranfield0009', 'cranfield1040', 'cranfield0040', 'cranfield0045', 'cranfield0049', 'cranfield0050', 'cranfield0564', 'cranfield0565', 'cranfield0053', 'cranfield0054', 'cranfield0055', 'cranfield0569', 'cranfield0570', 'cranfield1076', 'cranfield0573', 'cranfield0062', 'cranfield0063', 'cranfield0073', 'cranfield0076', 'cranfield0079', 'cranfield0080', 'cranfield1107', 'cranfield0089', 'cranfield0604', 'cranfield0094', 'cranfield0608', 'cranfield0628', 'cranfield0125', 'cranfield1154', 'cranfield1155', 'cranfield1157', 'cranfield0145', 'cranfield0661', 'cranfield0662', 'cranfield0672', 'cranfield1187', 'cranfield1188', 'cranfield0165', 'cranfield1191', 'cranfield0170', 'cranfield0173', 'cranfield0174', 'cranfield0689', 'cranfield1211', 'cranfield1212', 'cranfield0189', 'cranfield1228', 'cranfield1237', 'cranfield1257', 'cranfield1263', 'cranfield0240', 'cranfield1264', 'cranfield1274', 'cranfield1284', 'cranfield1300', 'cranfield0282', 'cranfield1307', 'cranfield0796', 'cranfield0798', 'cranfield0799', 'cranfield1310', 'cranfield1313', 'cranfield1319', 'cranfield0303', 'cranfield0304', 'cranfield0309', 'cranfield0310', 'cranfield0314', 'cranfield0316', 'cranfield1351', 'cranfield0328', 'cranfield1353', 'cranfield1355', 'cranfield0335', 'cranfield0337', 'cranfield0338', 'cranfield0340', 'cranfield0342', 'cranfield0343', 'cranfield1366', 'cranfield0345', 'cranfield0346', 'cranfield0347', 'cranfield0349', 'cranfield0861', 'cranfield0352', 'cranfield1381', 'cranfield1386', 'cranfield0413', 'cranfield0439', 'cranfield0959', 'cranfield0962', 'cranfield0972', 'cranfield0992', 'cranfield0996', 'cranfield0487', 'cranfield0504']\n",
      "------------------------------------------------------------------------------------------------------------------------------------------------------\n"
     ]
    }
   ],
   "source": [
    "\n",
    "t = int(input())\n",
    "for _ in range(t):\n",
    "    sentence = input()\n",
    "    trans_sentence = fn_module.preprocess(sentence)\n",
    "    # print(\"Processed sequence : \",trans_sentence)\n",
    "    \n",
    "    bi_words = []\n",
    "    for word in range(len(trans_sentence)-1):\n",
    "        string = trans_sentence[word] +\" \"+ trans_sentence[word+1]\n",
    "        bi_words.append(string)\n",
    "        \n",
    "    # print(\"bi_word sequence : \",bi_words)\n",
    "\n",
    "    l,count = retrieve_documents_bigram(bi_words, inverted_index)\n",
    "    \n",
    "    print(\"Number of documents retrieved for query \"+str(_+1)+\" using bigram inverted index :\",len(l))\n",
    "  \n",
    "    print(\"Names of the documents retrieved for query \"+str(_+1)+\" using bigram inverted index :\")\n",
    "    \n",
    "    if len(l)==0:\n",
    "        print(\"NO DOCUMENT FOUND!!\")\n",
    "    else:\n",
    "        doc_lst = []\n",
    "        for val in l:\n",
    "            doc_lst.append(keys[val])\n",
    "        print(doc_lst)\n",
    "    # print(\"Number of comparisons required for query \"+str(_+1)+\" using bigram inverted index :\",count)\n",
    "\n",
    "\n",
    "    pos_lst = retrieve_documents_positional(pos_index,trans_sentence)\n",
    "\n",
    "    print(\"Number of documents retrieved for query \"+str(_+1)+\" using positional index :\",len(pos_lst))\n",
    "  \n",
    "    print(\"Names of the documents retrieved for query \"+str(_+1)+\" using positional index :\")\n",
    "    \n",
    "    if len(l)==0:\n",
    "        print(\"NO DOCUMENT FOUND!!\")\n",
    "    else:\n",
    "        doc_lst = []\n",
    "        for val in pos_lst:\n",
    "            doc_lst.append(keys[val])\n",
    "        print(doc_lst)\n",
    "    print(\"-\"*150)\n",
    "    \n",
    "\n",
    "    "
   ]
  },
  {
   "cell_type": "code",
   "execution_count": 16,
   "id": "372d48ce",
   "metadata": {},
   "outputs": [
    {
     "name": "stdout",
     "output_type": "stream",
     "text": [
      "[0]\n",
      "[0]\n",
      "[0]\n",
      "{0}\n"
     ]
    }
   ],
   "source": [
    "print(inverted_index['investigation aerodynamics'])\n",
    "print(inverted_index['aerodynamics wing'])\n",
    "print(inverted_index['wing slipstream'])\n",
    "print(and_operation(inverted_index['investigation aerodynamics'],inverted_index['aerodynamics wing']))"
   ]
  },
  {
   "cell_type": "code",
   "execution_count": 17,
   "id": "b682b6ca",
   "metadata": {},
   "outputs": [
    {
     "name": "stdout",
     "output_type": "stream",
     "text": [
      "[0]\n"
     ]
    }
   ],
   "source": [
    "# print(inverted_index.values())\n",
    "print(inverted_index['investigation aerodynamics'])"
   ]
  },
  {
   "cell_type": "code",
   "execution_count": 55,
   "id": "08ac149a",
   "metadata": {},
   "outputs": [
    {
     "name": "stdout",
     "output_type": "stream",
     "text": [
      "{1, 2, 3, 6, 7, 8, 11, 15, 16, 17, 20, 21, 22, 23, 33, 36, 39, 42, 44, 46, 48, 49, 52, 53, 54, 58, 61, 62, 70, 71, 72, 73, 75, 78, 79, 88, 93, 95, 100, 103, 104, 106, 110, 111, 116, 120, 124, 125, 126, 127, 130, 132, 133, 134, 139, 141, 144, 147, 148, 149, 154, 159, 162, 164, 167, 169, 172, 173, 178, 179, 187, 188, 190, 191, 194, 206, 208, 219, 221, 226, 239, 240, 241, 243, 253, 254, 255, 259, 260, 263, 264, 266, 268, 270, 271, 275, 281, 290, 291, 292, 293, 297, 298, 299, 302, 303, 304, 305, 306, 307, 308, 309, 313, 314, 315, 317, 319, 320, 321, 323, 324, 325, 326, 327, 328, 333, 334, 335, 336, 337, 338, 339, 340, 341, 342, 343, 344, 345, 346, 347, 348, 351, 352, 354, 357, 358, 362, 363, 364, 365, 374, 375, 376, 377, 380, 381, 382, 387, 392, 396, 405, 412, 416, 421, 423, 424, 431, 434, 438, 447, 449, 451, 453, 456, 457, 458, 459, 460, 474, 475, 476, 477, 478, 480, 483, 486, 488, 492, 495, 503, 517, 524, 525, 526, 527, 528, 537, 539, 541, 546, 550, 552, 554, 558, 559, 561, 562, 563, 564, 567, 568, 569, 571, 572, 575, 583, 584, 603, 606, 607, 609, 610, 627, 628, 629, 640, 642, 643, 644, 645, 647, 651, 654, 658, 660, 661, 663, 665, 666, 667, 670, 671, 678, 684, 688, 689, 720, 729, 730, 731, 733, 735, 753, 765, 770, 772, 783, 784, 787, 788, 791, 795, 797, 798, 829, 836, 842, 850, 854, 856, 857, 858, 860, 871, 888, 898, 911, 932, 933, 943, 947, 958, 960, 961, 964, 965, 971, 973, 975, 976, 977, 978, 980, 991, 995, 996, 1035, 1039, 1040, 1046, 1052, 1054, 1055, 1058, 1060, 1071, 1075, 1079, 1081, 1082, 1099, 1105, 1106, 1108, 1141, 1148, 1153, 1154, 1156, 1179, 1180, 1181, 1183, 1184, 1186, 1187, 1190, 1191, 1198, 1199, 1204, 1208, 1209, 1210, 1211, 1214, 1215, 1219, 1221, 1223, 1224, 1225, 1227, 1232, 1234, 1235, 1236, 1239, 1240, 1245, 1247, 1250, 1253, 1256, 1258, 1259, 1260, 1261, 1262, 1263, 1267, 1270, 1272, 1273, 1277, 1280, 1283, 1287, 1299, 1300, 1301, 1306, 1309, 1310, 1312, 1318, 1320, 1321, 1322, 1323, 1324, 1343, 1346, 1350, 1352, 1354, 1363, 1364, 1365, 1369, 1370, 1371, 1374, 1376, 1380, 1381, 1382, 1383, 1384, 1385, 1386}\n"
     ]
    }
   ],
   "source": [
    "# print(pos_index['boundary'].keys())\n",
    "terms = ['boundary', 'layer', 'transition']\n",
    "print(set(pos_index[terms[0]].keys()))"
   ]
  },
  {
   "cell_type": "code",
   "execution_count": null,
   "id": "2439b072",
   "metadata": {},
   "outputs": [],
   "source": []
  }
 ],
 "metadata": {
  "kernelspec": {
   "display_name": "Python 3",
   "language": "python",
   "name": "python3"
  },
  "language_info": {
   "codemirror_mode": {
    "name": "ipython",
    "version": 3
   },
   "file_extension": ".py",
   "mimetype": "text/x-python",
   "name": "python",
   "nbconvert_exporter": "python",
   "pygments_lexer": "ipython3",
   "version": "3.10.10"
  },
  "vscode": {
   "interpreter": {
    "hash": "4bac288aa39488c199db7c1d2d3a4aa1846c8b7d5157a5261bbf38d0b7c4ca41"
   }
  }
 },
 "nbformat": 4,
 "nbformat_minor": 5
}

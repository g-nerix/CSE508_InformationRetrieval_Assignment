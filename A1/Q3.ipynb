{
 "cells": [
  {
   "cell_type": "code",
   "execution_count": 25,
   "id": "5220969d",
   "metadata": {},
   "outputs": [],
   "source": [
    "import pandas as pd\n",
    "import numpy as np\n",
    "import re\n",
    "import os\n",
    "import string\n"
   ]
  },
  {
   "cell_type": "code",
   "execution_count": 26,
   "id": "2bd9d468",
   "metadata": {},
   "outputs": [
    {
     "name": "stdout",
     "output_type": "stream",
     "text": [
      "File count =  1400\n"
     ]
    }
   ],
   "source": [
    "def read_file(directory = \"CSE508_Winter2023_Dataset_Processed\"):\n",
    "    data = {}\n",
    "    for filename in os.listdir(directory):    \n",
    "        file_path = os.path.join(directory, filename)\n",
    "        with open(file_path, 'r') as f:\n",
    "            file_contents = f.read()\n",
    "        data[filename] = file_contents\n",
    "    return data\n",
    "\n",
    "data = read_file()\n",
    "print(\"File count = \",len(data))\n",
    "\n",
    "keys = list(data.keys())\n",
    "\n",
    "s = \"\";\n",
    "df = []\n",
    "for key in data:\n",
    "    df.append(data[key])\n",
    "    \n"
   ]
  },
  {
   "cell_type": "code",
   "execution_count": 27,
   "id": "e673600d",
   "metadata": {},
   "outputs": [],
   "source": [
    "from collections import defaultdict\n",
    "\n",
    "def create_inverted_index(documents):\n",
    "    inverted_index = defaultdict(list)\n",
    "    \n",
    "    \n",
    "    for doc_id, document in enumerate(documents):\n",
    "        string1 = document.split()\n",
    "        for word in range(len(string1)-1):\n",
    "            bi_string = string1[word:word+2]\n",
    "            bi = \" \".join(bi_string)\n",
    "            inverted_index[bi].append(doc_id)\n",
    "    \n",
    "    return inverted_index"
   ]
  },
  {
   "cell_type": "code",
   "execution_count": 28,
   "id": "88440b34",
   "metadata": {},
   "outputs": [],
   "source": [
    "import pickle\n",
    "from collections import defaultdict\n",
    "\n",
    "inverted_index = create_inverted_index(df)\n",
    "\n",
    "def save_inverted_index(inverted_index, file_path):\n",
    "    with open(file_path, 'wb') as f:\n",
    "        pickle.dump(inverted_index, f)\n",
    "        \n",
    "def load_inverted_index(file_path):\n",
    "    with open(file_path, 'rb') as f:\n",
    "        inverted_index = pickle.load(f)\n",
    "        \n",
    "    return inverted_index"
   ]
  },
  {
   "cell_type": "code",
   "execution_count": 29,
   "id": "10caafc1",
   "metadata": {
    "scrolled": true
   },
   "outputs": [],
   "source": [
    "from collections import defaultdict\n",
    "\n",
    "\n",
    "pos_index = defaultdict(list)\n",
    "for no_1, doc in enumerate(df):\n",
    "    conv_lower = doc.lower()\n",
    "    t = conv_lower.split()\n",
    "    for no_2, token_no in enumerate(t):\n",
    "        if token_no not in pos_index:\n",
    "            pos_index[token_no] = defaultdict(list)\n",
    "        if no_2 not in pos_index[token_no]:\n",
    "            pos_index[token_no][no_1] = []\n",
    "        pos_index[token_no][no_1].append(no_2)\n",
    "        \n",
    "# print(pos_index)"
   ]
  },
  {
   "cell_type": "code",
   "execution_count": 30,
   "id": "8009a2ec",
   "metadata": {},
   "outputs": [],
   "source": [
    "import pickle \n",
    "def save_positional_index(pos_index, file_path):\n",
    "    with open(file_path, 'wb') as f:\n",
    "        pickle.dump(pos_index, f)\n",
    "        \n",
    "def load_positional_index(file_path):\n",
    "    with open(file_path, 'rb') as f:\n",
    "        pos_index = pickle.load(f)\n",
    "    return pos_index"
   ]
  },
  {
   "cell_type": "code",
   "execution_count": null,
   "id": "88c57173",
   "metadata": {},
   "outputs": [],
   "source": []
  }
 ],
 "metadata": {
  "kernelspec": {
   "display_name": "Python 3 (ipykernel)",
   "language": "python",
   "name": "python3"
  },
  "language_info": {
   "codemirror_mode": {
    "name": "ipython",
    "version": 3
   },
   "file_extension": ".py",
   "mimetype": "text/x-python",
   "name": "python",
   "nbconvert_exporter": "python",
   "pygments_lexer": "ipython3",
   "version": "3.10.6"
  }
 },
 "nbformat": 4,
 "nbformat_minor": 5
}

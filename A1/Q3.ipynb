{
 "cells": [
  {
   "cell_type": "code",
   "execution_count": 2,
   "id": "5220969d",
   "metadata": {},
   "outputs": [
    {
     "name": "stderr",
     "output_type": "stream",
     "text": [
      "[nltk_data] Downloading package stopwords to\n",
      "[nltk_data]     C:\\Users\\yukti\\AppData\\Roaming\\nltk_data...\n",
      "[nltk_data]   Package stopwords is already up-to-date!\n"
     ]
    }
   ],
   "source": [
    "import pandas as pd\n",
    "import numpy as np\n",
    "import re\n",
    "import os\n",
    "import string\n",
    "import fn_module\n",
    "from fn_module import *"
   ]
  },
  {
   "cell_type": "code",
   "execution_count": 5,
   "id": "2bd9d468",
   "metadata": {},
   "outputs": [
    {
     "name": "stdout",
     "output_type": "stream",
     "text": [
      "File count =  1400\n"
     ]
    }
   ],
   "source": [
    "data = fn_module.read_file(\"CSE508_Winter2023_Dataset_Processed_new\")\n",
    "print(\"File count = \", len(data))\n",
    "\n",
    "keys = list(data.keys())\n",
    "\n",
    "s = \"\"\n",
    "df = []\n",
    "for key in data:\n",
    "    df.append(data[key])\n"
   ]
  },
  {
   "cell_type": "code",
   "execution_count": 6,
   "id": "e673600d",
   "metadata": {},
   "outputs": [],
   "source": [
    "from collections import defaultdict\n",
    "\n",
    "def create_inverted_index(documents):\n",
    "    inverted_index = defaultdict(list)\n",
    "    \n",
    "    \n",
    "    for doc_id, document in enumerate(documents):\n",
    "        string1 = document.split()\n",
    "        for word in range(len(string1)-1):\n",
    "            bi_string = string1[word:word+2]\n",
    "            bi = \" \".join(bi_string)\n",
    "            inverted_index[bi].append(doc_id)\n",
    "    \n",
    "    return inverted_index\n",
    "\n",
    "\n"
   ]
  },
  {
   "cell_type": "code",
   "execution_count": 7,
   "id": "88440b34",
   "metadata": {},
   "outputs": [],
   "source": [
    "import pickle\n",
    "from collections import defaultdict\n",
    "\n",
    "inverted_index = create_inverted_index(df)\n",
    "\n",
    "def save_inverted_index(inverted_index, file_path):\n",
    "    with open(file_path, 'wb') as f:\n",
    "        pickle.dump(inverted_index, f)\n",
    "        \n",
    "def load_inverted_index(file_path):\n",
    "    with open(file_path, 'rb') as f:\n",
    "        inverted_index = pickle.load(f)\n",
    "        \n",
    "    return inverted_index"
   ]
  },
  {
   "cell_type": "code",
   "execution_count": 16,
   "id": "10caafc1",
   "metadata": {
    "scrolled": true
   },
   "outputs": [],
   "source": [
    "from collections import defaultdict\n",
    "\n",
    "def create_positional_index(documents):\n",
    "    pos_index = defaultdict(list)\n",
    "    for no_1, doc in enumerate(documents):\n",
    "        conv_lower = doc.lower()\n",
    "        for no_2, token_no in enumerate(conv_lower.split()):\n",
    "            if token_no not in pos_index:\n",
    "                pos_index[token_no] = defaultdict(list)\n",
    "            if no_2 not in pos_index[token_no]:\n",
    "                pos_index[token_no][no_1] = []\n",
    "            pos_index[token_no][no_1].append(no_2)\n",
    "    return pos_index\n",
    "\n",
    "pos_index = create_positional_index(df)\n"
   ]
  },
  {
   "cell_type": "code",
   "execution_count": 6,
   "id": "8009a2ec",
   "metadata": {},
   "outputs": [],
   "source": [
    "import pickle \n",
    "def save_positional_index(pos_index, file_path):\n",
    "    with open(file_path, 'wb') as f:\n",
    "        pickle.dump(pos_index, f)\n",
    "        \n",
    "def load_positional_index(file_path):\n",
    "    with open(file_path, 'rb') as f:\n",
    "        pos_index = pickle.load(f)\n",
    "    return pos_index"
   ]
  },
  {
   "cell_type": "code",
   "execution_count": 18,
   "id": "88c57173",
   "metadata": {},
   "outputs": [],
   "source": [
    "def and_operation(s1, s2):\n",
    "    ptr_1 = 0\n",
    "    ptr_2 = 0\n",
    "    final_set = set()\n",
    "    s_1 = sorted(s1)\n",
    "    s_2 = sorted(s2)\n",
    "    count_comparisons = 0\n",
    "    len_1 = len(s_1)\n",
    "    len_2 = len(s_2)\n",
    "    while(ptr_1 < len_1 and ptr_2 < len_2):\n",
    "        if s_1[ptr_1]==s_2[ptr_2]:\n",
    "            ptr_2 = ptr_2 + 1\n",
    "            final_set.add(s_1[ptr_1])\n",
    "            ptr_1 = ptr_1 + 1\n",
    "        elif s_1[ptr_1] > s_2[ptr_2]:\n",
    "            ptr_2 = ptr_2 + 1\n",
    "        else:\n",
    "            ptr_1 = ptr_1 + 1\n",
    "        count_comparisons += 1\n",
    "    return final_set\n",
    "\n",
    "def or_operation(s1, s2):\n",
    "    ptr_1 = 0\n",
    "    ptr_2 = 0\n",
    "    final_set = set()\n",
    "    s_1 = sorted(s1)\n",
    "    s_2 = sorted(s2)\n",
    "    count_comparisons = 0\n",
    "    len_1 = len(s_1)\n",
    "    len_2 = len(s_2)\n",
    "    while(ptr_1 < len_1 and ptr_2 < len_2):\n",
    "        if s_1[ptr_1]==s_2[ptr_2]:\n",
    "            ptr_2 = ptr_2 + 1\n",
    "            final_set.add(s_1[ptr_1])\n",
    "            ptr_1 = ptr_1 + 1\n",
    "        elif s_1[ptr_1] > s_2[ptr_2]:\n",
    "            final_set.add(s_2[ptr_2])\n",
    "            ptr_2 = ptr_2 + 1\n",
    "        else:\n",
    "            final_set.add(s_1[ptr_1])\n",
    "            ptr_1 = ptr_1 + 1\n",
    "        count_comparisons += 1\n",
    "        \n",
    "    while(ptr_1 < len_1):\n",
    "        final_set.add(s_1[ptr_1])\n",
    "        ptr_1 += 1\n",
    "        \n",
    "    while(ptr_2 < len_2):\n",
    "        final_set.add(s_2[ptr_2])\n",
    "        ptr_2 += 1\n",
    "        \n",
    "    result = sorted(final_set)\n",
    "        \n",
    "    return result, count_comparisons\n",
    "\n",
    "def ornot_operation(s1, s2):\n",
    "    ptr_1 = 0\n",
    "    ptr_2 = 0\n",
    "    final_set = set()\n",
    "    s_1 = sorted(s1)\n",
    "    s_2 = sorted(s2)\n",
    "    count_comparisons = 0\n",
    "    len_1 = len(s_1)\n",
    "    len_2 = len(s_2)\n",
    "    while(ptr_1 < len_1 and ptr_2 < len_2):\n",
    "        if s_1[ptr_1]==s_2[ptr_2]:\n",
    "            ptr_1 = ptr_1 + 1\n",
    "            ptr_2 = ptr_2 + 1\n",
    "        elif s_1[ptr_1] > s_2[ptr_2]:\n",
    "            ptr_2 = ptr_2 + 1\n",
    "        else:\n",
    "            final_set.add(s_1[ptr_1])\n",
    "            ptr_1 = ptr_1 + 1\n",
    "        count_comparisons += 1\n",
    "        \n",
    "    while(ptr_1 < len_1):\n",
    "        final_set.add(s_1[ptr_1])\n",
    "        ptr_1 += 1\n",
    "        \n",
    "        \n",
    "    result = sorted(final_set)\n",
    "        \n",
    "    return result, count_comparisons\n",
    "\n",
    "def andnot_operation(s1, s2):\n",
    "    ptr_1 = 0\n",
    "    ptr_2 = 0\n",
    "    final_set = set()\n",
    "    s_1 = sorted(s1)\n",
    "    s_2 = sorted(s2)\n",
    "    count_comparisons = 0\n",
    "    len_1 = len(s_1)\n",
    "    len_2 = len(s_2)\n",
    "    while(ptr_1 < len_1 and ptr_2 < len_2):\n",
    "        if s_1[ptr_1]==s_2[ptr_2]:\n",
    "            ptr_1 = ptr_1 + 1\n",
    "            ptr_2 = ptr_2 + 1\n",
    "        elif s_1[ptr_1] > s_2[ptr_2]:\n",
    "            final_set.add(s_2[ptr_2])\n",
    "            ptr_2 = ptr_2 + 1\n",
    "        else:\n",
    "            ptr_1 = ptr_1 + 1\n",
    "        count_comparisons += 1\n",
    "    return final_set, count_comparisons\n"
   ]
  },
  {
   "cell_type": "code",
   "execution_count": 19,
   "id": "5f877420",
   "metadata": {},
   "outputs": [
    {
     "name": "stdout",
     "output_type": "stream",
     "text": [
      "1\n",
      "car bag in a carriage\n",
      "['car bag', 'bag carriage']\n",
      "[]\n"
     ]
    }
   ],
   "source": [
    "\n",
    "t = int(input())\n",
    "while(t>0):\n",
    "    t -= 1\n",
    "    sentence = input()\n",
    "    trans_sentence = fn_module.preprocess(sentence)\n",
    "#     print(trans_sentence)\n",
    "    \n",
    "    bi_words = []\n",
    "    for word in range(len(trans_sentence)-1):\n",
    "        string = trans_sentence[word] +\" \"+ trans_sentence[word+1]\n",
    "        bi_words.append(string)\n",
    "        \n",
    "    print(bi_words)\n",
    "    \n",
    "    x = len(bi_words)\n",
    "    res = []\n",
    "    ptr = 2\n",
    "    temp = []\n",
    "    temp.append(and_operation(inverted_index[bi_words[0]], inverted_index[bi_words[1]]))\n",
    "\n",
    "    while(ptr < len(bi_words)-1):\n",
    "        res.append(and_operation(temp, inverted_index[bi_words[ptr+1]]))\n",
    "        print(res)\n",
    "        ptr += 1\n",
    "\n",
    "    print(res)\n",
    "    "
   ]
  },
  {
   "cell_type": "code",
   "execution_count": null,
   "id": "372d48ce",
   "metadata": {},
   "outputs": [],
   "source": []
  }
 ],
 "metadata": {
  "kernelspec": {
   "display_name": "Python 3 (ipykernel)",
   "language": "python",
   "name": "python3"
  },
  "language_info": {
   "codemirror_mode": {
    "name": "ipython",
    "version": 3
   },
   "file_extension": ".py",
   "mimetype": "text/x-python",
   "name": "python",
   "nbconvert_exporter": "python",
   "pygments_lexer": "ipython3",
   "version": "3.10.6"
  }
 },
 "nbformat": 4,
 "nbformat_minor": 5
}

{
 "cells": [
  {
   "cell_type": "code",
   "execution_count": 182,
   "id": "582aec4d",
   "metadata": {},
   "outputs": [
    {
     "name": "stderr",
     "output_type": "stream",
     "text": [
      "[nltk_data] Downloading package stopwords to\n",
      "[nltk_data]     C:\\Users\\asus\\AppData\\Roaming\\nltk_data...\n",
      "[nltk_data]   Package stopwords is already up-to-date!\n"
     ]
    },
    {
     "data": {
      "text/plain": [
       "True"
      ]
     },
     "execution_count": 182,
     "metadata": {},
     "output_type": "execute_result"
    }
   ],
   "source": [
    "import re\n",
    "import os\n",
    "import pandas as pd\n",
    "import nltk\n",
    "nltk.download('stopwords')"
   ]
  },
  {
   "cell_type": "code",
   "execution_count": 163,
   "id": "9bdaee1e",
   "metadata": {},
   "outputs": [],
   "source": [
    "def extract(content):\n",
    "    \"\"\"\n",
    "    Extracts the contents between <TITLE>...</TITLE> and <TEXT>...</TEXT>\n",
    "    tags and returns the concatenated data.\n",
    "    \"\"\"\n",
    "    content = re.sub('\\n', '', content)\n",
    "\n",
    "    title = re.search('<TITLE>(.*?)</TITLE>', content).group(1)\n",
    "\n",
    "    text = re.search('<TEXT>(.*?)</TEXT>', content).group(1)\n",
    "\n",
    "    data = title + \" \" + text\n",
    "\n",
    "    return data"
   ]
  },
  {
   "cell_type": "code",
   "execution_count": 164,
   "id": "cfd2250e",
   "metadata": {},
   "outputs": [],
   "source": [
    "def read_file(directory = \"CSE508_Winter2023_Dataset\"):\n",
    "    data = {}\n",
    "    for filename in os.listdir(directory):    \n",
    "        file_path = os.path.join(directory, filename)\n",
    "        with open(file_path, 'r') as f:\n",
    "            file_contents = f.read()\n",
    "        data[filename] = file_contents\n",
    "    return data"
   ]
  },
  {
   "cell_type": "code",
   "execution_count": 165,
   "id": "40fd6c0f",
   "metadata": {},
   "outputs": [
    {
     "name": "stdout",
     "output_type": "stream",
     "text": [
      "File count =  1400\n"
     ]
    }
   ],
   "source": [
    "data = read_file()\n",
    "print(\"File count = \",len(data))"
   ]
  },
  {
   "cell_type": "code",
   "execution_count": 166,
   "id": "3dcb30d2",
   "metadata": {},
   "outputs": [],
   "source": [
    "def extract_data(data):\n",
    "    extracted_data = {}\n",
    "    for i in data.keys():\n",
    "        extracted_data[i] = extract(data[i])\n",
    "    return extracted_data"
   ]
  },
  {
   "cell_type": "code",
   "execution_count": 167,
   "id": "f770bb78",
   "metadata": {},
   "outputs": [],
   "source": [
    "data = extract_data(data)"
   ]
  },
  {
   "cell_type": "code",
   "execution_count": 168,
   "id": "3db24f25",
   "metadata": {},
   "outputs": [
    {
     "name": "stdout",
     "output_type": "stream",
     "text": [
      "1400\n"
     ]
    }
   ],
   "source": [
    "print(len(data))"
   ]
  },
  {
   "cell_type": "code",
   "execution_count": 169,
   "id": "1e0775ff",
   "metadata": {},
   "outputs": [],
   "source": [
    "def save_data(data, directory_path):\n",
    "    \"\"\"\n",
    "    Saves data from a dictionary to files, where the keys are the file names and the values are the contents of the files.\n",
    "    \"\"\"\n",
    "    os.makedirs(directory_path, exist_ok=True)\n",
    "\n",
    "    for filename, file_contents in data.items():\n",
    "        file_path = os.path.join(directory_path, filename)\n",
    "        \n",
    "        with open(file_path, 'w') as f:\n",
    "            f.write(file_contents)"
   ]
  },
  {
   "cell_type": "code",
   "execution_count": 170,
   "id": "ab1570fc",
   "metadata": {},
   "outputs": [],
   "source": [
    "directory_path = \"CSE508_Winter2023_Dataset_Processed\"\n",
    "save_data(data,directory_path)"
   ]
  },
  {
   "cell_type": "code",
   "execution_count": 174,
   "id": "e1da4729",
   "metadata": {},
   "outputs": [],
   "source": [
    "df = pd.DataFrame(list(data.items()),columns = ['file_name','raw_data'])"
   ]
  },
  {
   "cell_type": "code",
   "execution_count": 176,
   "id": "ccc6d442",
   "metadata": {},
   "outputs": [],
   "source": [
    "df['TEXT_LOWER']=df['raw_data'].str.lower()"
   ]
  },
  {
   "cell_type": "code",
   "execution_count": 183,
   "id": "ffe5d865",
   "metadata": {},
   "outputs": [
    {
     "data": {
      "text/html": [
       "<div>\n",
       "<style scoped>\n",
       "    .dataframe tbody tr th:only-of-type {\n",
       "        vertical-align: middle;\n",
       "    }\n",
       "\n",
       "    .dataframe tbody tr th {\n",
       "        vertical-align: top;\n",
       "    }\n",
       "\n",
       "    .dataframe thead th {\n",
       "        text-align: right;\n",
       "    }\n",
       "</style>\n",
       "<table border=\"1\" class=\"dataframe\">\n",
       "  <thead>\n",
       "    <tr style=\"text-align: right;\">\n",
       "      <th></th>\n",
       "      <th>file_name</th>\n",
       "      <th>raw_data</th>\n",
       "      <th>TEXT_LOWER</th>\n",
       "      <th>tokenization</th>\n",
       "    </tr>\n",
       "  </thead>\n",
       "  <tbody>\n",
       "    <tr>\n",
       "      <th>0</th>\n",
       "      <td>cranfield0001</td>\n",
       "      <td>experimental investigation of the aerodynamics...</td>\n",
       "      <td>experimental investigation of the aerodynamics...</td>\n",
       "      <td>[experimental, investigation, of, the, aerodyn...</td>\n",
       "    </tr>\n",
       "    <tr>\n",
       "      <th>1</th>\n",
       "      <td>cranfield0002</td>\n",
       "      <td>simple shear flow past a flat plate in an inco...</td>\n",
       "      <td>simple shear flow past a flat plate in an inco...</td>\n",
       "      <td>[simple, shear, flow, past, a, flat, plate, in...</td>\n",
       "    </tr>\n",
       "    <tr>\n",
       "      <th>2</th>\n",
       "      <td>cranfield0003</td>\n",
       "      <td>the boundary layer in simple shear flow past a...</td>\n",
       "      <td>the boundary layer in simple shear flow past a...</td>\n",
       "      <td>[the, boundary, layer, in, simple, shear, flow...</td>\n",
       "    </tr>\n",
       "    <tr>\n",
       "      <th>3</th>\n",
       "      <td>cranfield0004</td>\n",
       "      <td>approximate solutions of the incompressible la...</td>\n",
       "      <td>approximate solutions of the incompressible la...</td>\n",
       "      <td>[approximate, solutions, of, the, incompressib...</td>\n",
       "    </tr>\n",
       "    <tr>\n",
       "      <th>4</th>\n",
       "      <td>cranfield0005</td>\n",
       "      <td>one-dimensional transient heat conduction into...</td>\n",
       "      <td>one-dimensional transient heat conduction into...</td>\n",
       "      <td>[one-dimensional, transient, heat, conduction,...</td>\n",
       "    </tr>\n",
       "  </tbody>\n",
       "</table>\n",
       "</div>"
      ],
      "text/plain": [
       "       file_name                                           raw_data  \\\n",
       "0  cranfield0001  experimental investigation of the aerodynamics...   \n",
       "1  cranfield0002  simple shear flow past a flat plate in an inco...   \n",
       "2  cranfield0003  the boundary layer in simple shear flow past a...   \n",
       "3  cranfield0004  approximate solutions of the incompressible la...   \n",
       "4  cranfield0005  one-dimensional transient heat conduction into...   \n",
       "\n",
       "                                          TEXT_LOWER  \\\n",
       "0  experimental investigation of the aerodynamics...   \n",
       "1  simple shear flow past a flat plate in an inco...   \n",
       "2  the boundary layer in simple shear flow past a...   \n",
       "3  approximate solutions of the incompressible la...   \n",
       "4  one-dimensional transient heat conduction into...   \n",
       "\n",
       "                                        tokenization  \n",
       "0  [experimental, investigation, of, the, aerodyn...  \n",
       "1  [simple, shear, flow, past, a, flat, plate, in...  \n",
       "2  [the, boundary, layer, in, simple, shear, flow...  \n",
       "3  [approximate, solutions, of, the, incompressib...  \n",
       "4  [one-dimensional, transient, heat, conduction,...  "
      ]
     },
     "execution_count": 183,
     "metadata": {},
     "output_type": "execute_result"
    }
   ],
   "source": [
    "df.head()"
   ]
  },
  {
   "cell_type": "code",
   "execution_count": 179,
   "id": "ce1c54be",
   "metadata": {},
   "outputs": [],
   "source": [
    "df[\"tokenization\"] = df[\"TEXT_LOWER\"].apply(nltk.word_tokenize)"
   ]
  },
  {
   "cell_type": "code",
   "execution_count": 181,
   "id": "f790534c",
   "metadata": {},
   "outputs": [
    {
     "data": {
      "text/html": [
       "<div>\n",
       "<style scoped>\n",
       "    .dataframe tbody tr th:only-of-type {\n",
       "        vertical-align: middle;\n",
       "    }\n",
       "\n",
       "    .dataframe tbody tr th {\n",
       "        vertical-align: top;\n",
       "    }\n",
       "\n",
       "    .dataframe thead th {\n",
       "        text-align: right;\n",
       "    }\n",
       "</style>\n",
       "<table border=\"1\" class=\"dataframe\">\n",
       "  <thead>\n",
       "    <tr style=\"text-align: right;\">\n",
       "      <th></th>\n",
       "      <th>file_name</th>\n",
       "      <th>raw_data</th>\n",
       "      <th>TEXT_LOWER</th>\n",
       "      <th>tokenization</th>\n",
       "    </tr>\n",
       "  </thead>\n",
       "  <tbody>\n",
       "    <tr>\n",
       "      <th>0</th>\n",
       "      <td>cranfield0001</td>\n",
       "      <td>experimental investigation of the aerodynamics...</td>\n",
       "      <td>experimental investigation of the aerodynamics...</td>\n",
       "      <td>[experimental, investigation, of, the, aerodyn...</td>\n",
       "    </tr>\n",
       "    <tr>\n",
       "      <th>1</th>\n",
       "      <td>cranfield0002</td>\n",
       "      <td>simple shear flow past a flat plate in an inco...</td>\n",
       "      <td>simple shear flow past a flat plate in an inco...</td>\n",
       "      <td>[simple, shear, flow, past, a, flat, plate, in...</td>\n",
       "    </tr>\n",
       "    <tr>\n",
       "      <th>2</th>\n",
       "      <td>cranfield0003</td>\n",
       "      <td>the boundary layer in simple shear flow past a...</td>\n",
       "      <td>the boundary layer in simple shear flow past a...</td>\n",
       "      <td>[the, boundary, layer, in, simple, shear, flow...</td>\n",
       "    </tr>\n",
       "    <tr>\n",
       "      <th>3</th>\n",
       "      <td>cranfield0004</td>\n",
       "      <td>approximate solutions of the incompressible la...</td>\n",
       "      <td>approximate solutions of the incompressible la...</td>\n",
       "      <td>[approximate, solutions, of, the, incompressib...</td>\n",
       "    </tr>\n",
       "    <tr>\n",
       "      <th>4</th>\n",
       "      <td>cranfield0005</td>\n",
       "      <td>one-dimensional transient heat conduction into...</td>\n",
       "      <td>one-dimensional transient heat conduction into...</td>\n",
       "      <td>[one-dimensional, transient, heat, conduction,...</td>\n",
       "    </tr>\n",
       "  </tbody>\n",
       "</table>\n",
       "</div>"
      ],
      "text/plain": [
       "       file_name                                           raw_data  \\\n",
       "0  cranfield0001  experimental investigation of the aerodynamics...   \n",
       "1  cranfield0002  simple shear flow past a flat plate in an inco...   \n",
       "2  cranfield0003  the boundary layer in simple shear flow past a...   \n",
       "3  cranfield0004  approximate solutions of the incompressible la...   \n",
       "4  cranfield0005  one-dimensional transient heat conduction into...   \n",
       "\n",
       "                                          TEXT_LOWER  \\\n",
       "0  experimental investigation of the aerodynamics...   \n",
       "1  simple shear flow past a flat plate in an inco...   \n",
       "2  the boundary layer in simple shear flow past a...   \n",
       "3  approximate solutions of the incompressible la...   \n",
       "4  one-dimensional transient heat conduction into...   \n",
       "\n",
       "                                        tokenization  \n",
       "0  [experimental, investigation, of, the, aerodyn...  \n",
       "1  [simple, shear, flow, past, a, flat, plate, in...  \n",
       "2  [the, boundary, layer, in, simple, shear, flow...  \n",
       "3  [approximate, solutions, of, the, incompressib...  \n",
       "4  [one-dimensional, transient, heat, conduction,...  "
      ]
     },
     "execution_count": 181,
     "metadata": {},
     "output_type": "execute_result"
    }
   ],
   "source": [
    "df.head()"
   ]
  },
  {
   "cell_type": "code",
   "execution_count": null,
   "id": "51c31d47",
   "metadata": {},
   "outputs": [],
   "source": []
  }
 ],
 "metadata": {
  "kernelspec": {
   "display_name": "Python 3 (ipykernel)",
   "language": "python",
   "name": "python3"
  },
  "language_info": {
   "codemirror_mode": {
    "name": "ipython",
    "version": 3
   },
   "file_extension": ".py",
   "mimetype": "text/x-python",
   "name": "python",
   "nbconvert_exporter": "python",
   "pygments_lexer": "ipython3",
   "version": "3.9.12"
  }
 },
 "nbformat": 4,
 "nbformat_minor": 5
}
